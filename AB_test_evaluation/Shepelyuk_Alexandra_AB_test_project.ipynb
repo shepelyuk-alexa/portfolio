{
 "cells": [
  {
   "cell_type": "markdown",
   "metadata": {},
   "source": [
    "## Оценка результатов A/B-теста"
   ]
  },
  {
   "cell_type": "markdown",
   "metadata": {},
   "source": [
    "### Описание задач проекта и технического задания"
   ]
  },
  {
   "cell_type": "markdown",
   "metadata": {},
   "source": [
    "**Цель исследования:** оценить корректность проведения теста recommender_system_test и проанализировать его результаты.\n",
    "\n",
    "Чтобы оценить корректность проведения теста: удостоверимся, что нет пересечений с конкурирующим тестом и нет\n",
    "пользователей, участвующих в двух группах теста одновременно; проверим равномерность распределения пользователей по тестовым группам и правильность их формирования.\n",
    "\n",
    "\n",
    "**Техническое задание:**\n",
    "- Название теста: recommender_system_test ;\n",
    "- группы: А — контрольная, B — новая платёжная воронка;\n",
    "- дата запуска: 2020-12-07;\n",
    "- дата остановки набора новых пользователей: 2020-12-21;\n",
    "- дата остановки: 2021-01-04;\n",
    "- аудитория: в тест должно быть отобрано 15% новых пользователей из региона EU;\n",
    "- назначение теста: тестирование изменений, связанных с внедрением улучшенной рекомендательной системы;\n",
    "- ожидаемое количество участников теста: 6000\n",
    "- ожидаемый эффект: за 14 дней с момента регистрации пользователи покажут улучшение каждой метрики не менее, чем на 10%:\n",
    "    \n",
    "    \n",
    "    - конверсии в просмотр карточек товаров — событие product_page ,\n",
    "    - просмотры корзины — product_cart ,\n",
    "    - покупки — purchase ."
   ]
  },
  {
   "cell_type": "markdown",
   "metadata": {},
   "source": [
    "### Загрузка данных и изучение общей информации"
   ]
  },
  {
   "cell_type": "code",
   "execution_count": 1,
   "metadata": {},
   "outputs": [],
   "source": [
    "#импортируем нужные библиотеки\n",
    "import pandas as pd\n",
    "import numpy as np\n",
    "from matplotlib import pyplot as plt\n",
    "import seaborn as sns\n",
    "import plotly.express as px\n",
    "from plotly import graph_objects as go\n",
    "import scipy.stats as stats\n",
    "import datetime as dt\n",
    "import math as mth\n",
    "#!pip install statsmodels\n",
    "from statsmodels.stats.proportion import proportions_ztest\n",
    "#! pip install kaleido\n",
    "import kaleido\n",
    "#также отключим предупреждения\n",
    "import warnings\n",
    "warnings.filterwarnings('ignore')"
   ]
  },
  {
   "cell_type": "code",
   "execution_count": 2,
   "metadata": {},
   "outputs": [],
   "source": [
    "#создадим функцию для первичного анализа датафрейма и подсчета явных дубликатов\n",
    "\n",
    "def df_analyse(df):\n",
    "    dupl = df.duplicated().sum()\n",
    "    nan = df.isna().sum()\n",
    "    \n",
    "    display(df.head(5))\n",
    "    print(' ')\n",
    "    print(f'Кол-во NaN: {nan}')\n",
    "    print(' ')\n",
    "    print(f'Явных дубликатов:{dupl}')\n",
    "    print(' ')\n",
    "    display (df.info())\n",
    "    display (df.describe());"
   ]
  },
  {
   "cell_type": "code",
   "execution_count": 3,
   "metadata": {},
   "outputs": [],
   "source": [
    "#действия новых пользователей в период с 7 декабря 2020 по 4 января 2021 года \n",
    "final_ab_events = pd.read_csv('/Users/shepe/Downloads/final_ab_events.csv') "
   ]
  },
  {
   "cell_type": "code",
   "execution_count": 4,
   "metadata": {
    "scrolled": true
   },
   "outputs": [
    {
     "data": {
      "text/html": [
       "<div>\n",
       "<style scoped>\n",
       "    .dataframe tbody tr th:only-of-type {\n",
       "        vertical-align: middle;\n",
       "    }\n",
       "\n",
       "    .dataframe tbody tr th {\n",
       "        vertical-align: top;\n",
       "    }\n",
       "\n",
       "    .dataframe thead th {\n",
       "        text-align: right;\n",
       "    }\n",
       "</style>\n",
       "<table border=\"1\" class=\"dataframe\">\n",
       "  <thead>\n",
       "    <tr style=\"text-align: right;\">\n",
       "      <th></th>\n",
       "      <th>user_id</th>\n",
       "      <th>event_dt</th>\n",
       "      <th>event_name</th>\n",
       "      <th>details</th>\n",
       "    </tr>\n",
       "  </thead>\n",
       "  <tbody>\n",
       "    <tr>\n",
       "      <th>0</th>\n",
       "      <td>E1BDDCE0DAFA2679</td>\n",
       "      <td>2020-12-07 20:22:03</td>\n",
       "      <td>purchase</td>\n",
       "      <td>99.99</td>\n",
       "    </tr>\n",
       "    <tr>\n",
       "      <th>1</th>\n",
       "      <td>7B6452F081F49504</td>\n",
       "      <td>2020-12-07 09:22:53</td>\n",
       "      <td>purchase</td>\n",
       "      <td>9.99</td>\n",
       "    </tr>\n",
       "    <tr>\n",
       "      <th>2</th>\n",
       "      <td>9CD9F34546DF254C</td>\n",
       "      <td>2020-12-07 12:59:29</td>\n",
       "      <td>purchase</td>\n",
       "      <td>4.99</td>\n",
       "    </tr>\n",
       "    <tr>\n",
       "      <th>3</th>\n",
       "      <td>96F27A054B191457</td>\n",
       "      <td>2020-12-07 04:02:40</td>\n",
       "      <td>purchase</td>\n",
       "      <td>4.99</td>\n",
       "    </tr>\n",
       "    <tr>\n",
       "      <th>4</th>\n",
       "      <td>1FD7660FDF94CA1F</td>\n",
       "      <td>2020-12-07 10:15:09</td>\n",
       "      <td>purchase</td>\n",
       "      <td>4.99</td>\n",
       "    </tr>\n",
       "  </tbody>\n",
       "</table>\n",
       "</div>"
      ],
      "text/plain": [
       "            user_id             event_dt event_name  details\n",
       "0  E1BDDCE0DAFA2679  2020-12-07 20:22:03   purchase    99.99\n",
       "1  7B6452F081F49504  2020-12-07 09:22:53   purchase     9.99\n",
       "2  9CD9F34546DF254C  2020-12-07 12:59:29   purchase     4.99\n",
       "3  96F27A054B191457  2020-12-07 04:02:40   purchase     4.99\n",
       "4  1FD7660FDF94CA1F  2020-12-07 10:15:09   purchase     4.99"
      ]
     },
     "metadata": {},
     "output_type": "display_data"
    },
    {
     "name": "stdout",
     "output_type": "stream",
     "text": [
      " \n",
      "Кол-во NaN: user_id            0\n",
      "event_dt           0\n",
      "event_name         0\n",
      "details       377577\n",
      "dtype: int64\n",
      " \n",
      "Явных дубликатов:0\n",
      " \n",
      "<class 'pandas.core.frame.DataFrame'>\n",
      "RangeIndex: 440317 entries, 0 to 440316\n",
      "Data columns (total 4 columns):\n",
      " #   Column      Non-Null Count   Dtype  \n",
      "---  ------      --------------   -----  \n",
      " 0   user_id     440317 non-null  object \n",
      " 1   event_dt    440317 non-null  object \n",
      " 2   event_name  440317 non-null  object \n",
      " 3   details     62740 non-null   float64\n",
      "dtypes: float64(1), object(3)\n",
      "memory usage: 13.4+ MB\n"
     ]
    },
    {
     "data": {
      "text/plain": [
       "None"
      ]
     },
     "metadata": {},
     "output_type": "display_data"
    },
    {
     "data": {
      "text/html": [
       "<div>\n",
       "<style scoped>\n",
       "    .dataframe tbody tr th:only-of-type {\n",
       "        vertical-align: middle;\n",
       "    }\n",
       "\n",
       "    .dataframe tbody tr th {\n",
       "        vertical-align: top;\n",
       "    }\n",
       "\n",
       "    .dataframe thead th {\n",
       "        text-align: right;\n",
       "    }\n",
       "</style>\n",
       "<table border=\"1\" class=\"dataframe\">\n",
       "  <thead>\n",
       "    <tr style=\"text-align: right;\">\n",
       "      <th></th>\n",
       "      <th>details</th>\n",
       "    </tr>\n",
       "  </thead>\n",
       "  <tbody>\n",
       "    <tr>\n",
       "      <th>count</th>\n",
       "      <td>62740.000000</td>\n",
       "    </tr>\n",
       "    <tr>\n",
       "      <th>mean</th>\n",
       "      <td>23.877631</td>\n",
       "    </tr>\n",
       "    <tr>\n",
       "      <th>std</th>\n",
       "      <td>72.180465</td>\n",
       "    </tr>\n",
       "    <tr>\n",
       "      <th>min</th>\n",
       "      <td>4.990000</td>\n",
       "    </tr>\n",
       "    <tr>\n",
       "      <th>25%</th>\n",
       "      <td>4.990000</td>\n",
       "    </tr>\n",
       "    <tr>\n",
       "      <th>50%</th>\n",
       "      <td>4.990000</td>\n",
       "    </tr>\n",
       "    <tr>\n",
       "      <th>75%</th>\n",
       "      <td>9.990000</td>\n",
       "    </tr>\n",
       "    <tr>\n",
       "      <th>max</th>\n",
       "      <td>499.990000</td>\n",
       "    </tr>\n",
       "  </tbody>\n",
       "</table>\n",
       "</div>"
      ],
      "text/plain": [
       "            details\n",
       "count  62740.000000\n",
       "mean      23.877631\n",
       "std       72.180465\n",
       "min        4.990000\n",
       "25%        4.990000\n",
       "50%        4.990000\n",
       "75%        9.990000\n",
       "max      499.990000"
      ]
     },
     "metadata": {},
     "output_type": "display_data"
    }
   ],
   "source": [
    "df_analyse(final_ab_events)"
   ]
  },
  {
   "cell_type": "markdown",
   "metadata": {},
   "source": [
    "При первичном анализе датафрейма с действиями новых пользователей **не было обнаружено явных дубликатов**. Столбцы проименованы корректно, переименование не требуется. Необходима смена типов данных в столбце event_dt, для уменьшения объема хранения датафрейма также изменим тип данных в столбце details (максимальное значение — 499.99).\n",
    "\n",
    "**Пропуски данных присутствуют в столбце details**, где хранятся дополнительные данные о событии (например, стоимость покупки при действии purchase). Пропуски в этом столбце закономерны, поскольку не везде может присутствовать дополнительная информация, избавляться от них не будем, поставим заглушку.\n",
    "\n",
    "Также видим, что в столбце details присутствуют аномалии в данных. \n",
    "\n",
    "Необходимо отметить **особенность записи данных в столбце event_dt**: если в браузере у пользователя отключена часть необходимого тесту функционала события могут записываться с одинаковым временем завершения сессии (то есть, фиксировалось не время совершения каждого события, а время завершения всей сессии)."
   ]
  },
  {
   "cell_type": "code",
   "execution_count": 5,
   "metadata": {},
   "outputs": [],
   "source": [
    "#календарь маркетинговых событий на 2020 год\n",
    "ab_project_marketing_events = pd.read_csv('/Users/shepe/Downloads/ab_project_marketing_events.csv')"
   ]
  },
  {
   "cell_type": "code",
   "execution_count": 6,
   "metadata": {
    "scrolled": true
   },
   "outputs": [
    {
     "data": {
      "text/html": [
       "<div>\n",
       "<style scoped>\n",
       "    .dataframe tbody tr th:only-of-type {\n",
       "        vertical-align: middle;\n",
       "    }\n",
       "\n",
       "    .dataframe tbody tr th {\n",
       "        vertical-align: top;\n",
       "    }\n",
       "\n",
       "    .dataframe thead th {\n",
       "        text-align: right;\n",
       "    }\n",
       "</style>\n",
       "<table border=\"1\" class=\"dataframe\">\n",
       "  <thead>\n",
       "    <tr style=\"text-align: right;\">\n",
       "      <th></th>\n",
       "      <th>name</th>\n",
       "      <th>regions</th>\n",
       "      <th>start_dt</th>\n",
       "      <th>finish_dt</th>\n",
       "    </tr>\n",
       "  </thead>\n",
       "  <tbody>\n",
       "    <tr>\n",
       "      <th>0</th>\n",
       "      <td>Christmas&amp;New Year Promo</td>\n",
       "      <td>EU, N.America</td>\n",
       "      <td>2020-12-25</td>\n",
       "      <td>2021-01-03</td>\n",
       "    </tr>\n",
       "    <tr>\n",
       "      <th>1</th>\n",
       "      <td>St. Valentine's Day Giveaway</td>\n",
       "      <td>EU, CIS, APAC, N.America</td>\n",
       "      <td>2020-02-14</td>\n",
       "      <td>2020-02-16</td>\n",
       "    </tr>\n",
       "    <tr>\n",
       "      <th>2</th>\n",
       "      <td>St. Patric's Day Promo</td>\n",
       "      <td>EU, N.America</td>\n",
       "      <td>2020-03-17</td>\n",
       "      <td>2020-03-19</td>\n",
       "    </tr>\n",
       "    <tr>\n",
       "      <th>3</th>\n",
       "      <td>Easter Promo</td>\n",
       "      <td>EU, CIS, APAC, N.America</td>\n",
       "      <td>2020-04-12</td>\n",
       "      <td>2020-04-19</td>\n",
       "    </tr>\n",
       "    <tr>\n",
       "      <th>4</th>\n",
       "      <td>4th of July Promo</td>\n",
       "      <td>N.America</td>\n",
       "      <td>2020-07-04</td>\n",
       "      <td>2020-07-11</td>\n",
       "    </tr>\n",
       "  </tbody>\n",
       "</table>\n",
       "</div>"
      ],
      "text/plain": [
       "                           name                   regions    start_dt  \\\n",
       "0      Christmas&New Year Promo             EU, N.America  2020-12-25   \n",
       "1  St. Valentine's Day Giveaway  EU, CIS, APAC, N.America  2020-02-14   \n",
       "2        St. Patric's Day Promo             EU, N.America  2020-03-17   \n",
       "3                  Easter Promo  EU, CIS, APAC, N.America  2020-04-12   \n",
       "4             4th of July Promo                 N.America  2020-07-04   \n",
       "\n",
       "    finish_dt  \n",
       "0  2021-01-03  \n",
       "1  2020-02-16  \n",
       "2  2020-03-19  \n",
       "3  2020-04-19  \n",
       "4  2020-07-11  "
      ]
     },
     "metadata": {},
     "output_type": "display_data"
    },
    {
     "name": "stdout",
     "output_type": "stream",
     "text": [
      " \n",
      "Кол-во NaN: name         0\n",
      "regions      0\n",
      "start_dt     0\n",
      "finish_dt    0\n",
      "dtype: int64\n",
      " \n",
      "Явных дубликатов:0\n",
      " \n",
      "<class 'pandas.core.frame.DataFrame'>\n",
      "RangeIndex: 14 entries, 0 to 13\n",
      "Data columns (total 4 columns):\n",
      " #   Column     Non-Null Count  Dtype \n",
      "---  ------     --------------  ----- \n",
      " 0   name       14 non-null     object\n",
      " 1   regions    14 non-null     object\n",
      " 2   start_dt   14 non-null     object\n",
      " 3   finish_dt  14 non-null     object\n",
      "dtypes: object(4)\n",
      "memory usage: 576.0+ bytes\n"
     ]
    },
    {
     "data": {
      "text/plain": [
       "None"
      ]
     },
     "metadata": {},
     "output_type": "display_data"
    },
    {
     "data": {
      "text/html": [
       "<div>\n",
       "<style scoped>\n",
       "    .dataframe tbody tr th:only-of-type {\n",
       "        vertical-align: middle;\n",
       "    }\n",
       "\n",
       "    .dataframe tbody tr th {\n",
       "        vertical-align: top;\n",
       "    }\n",
       "\n",
       "    .dataframe thead th {\n",
       "        text-align: right;\n",
       "    }\n",
       "</style>\n",
       "<table border=\"1\" class=\"dataframe\">\n",
       "  <thead>\n",
       "    <tr style=\"text-align: right;\">\n",
       "      <th></th>\n",
       "      <th>name</th>\n",
       "      <th>regions</th>\n",
       "      <th>start_dt</th>\n",
       "      <th>finish_dt</th>\n",
       "    </tr>\n",
       "  </thead>\n",
       "  <tbody>\n",
       "    <tr>\n",
       "      <th>count</th>\n",
       "      <td>14</td>\n",
       "      <td>14</td>\n",
       "      <td>14</td>\n",
       "      <td>14</td>\n",
       "    </tr>\n",
       "    <tr>\n",
       "      <th>unique</th>\n",
       "      <td>14</td>\n",
       "      <td>6</td>\n",
       "      <td>14</td>\n",
       "      <td>14</td>\n",
       "    </tr>\n",
       "    <tr>\n",
       "      <th>top</th>\n",
       "      <td>Christmas&amp;New Year Promo</td>\n",
       "      <td>APAC</td>\n",
       "      <td>2020-12-25</td>\n",
       "      <td>2021-01-03</td>\n",
       "    </tr>\n",
       "    <tr>\n",
       "      <th>freq</th>\n",
       "      <td>1</td>\n",
       "      <td>4</td>\n",
       "      <td>1</td>\n",
       "      <td>1</td>\n",
       "    </tr>\n",
       "  </tbody>\n",
       "</table>\n",
       "</div>"
      ],
      "text/plain": [
       "                            name regions    start_dt   finish_dt\n",
       "count                         14      14          14          14\n",
       "unique                        14       6          14          14\n",
       "top     Christmas&New Year Promo    APAC  2020-12-25  2021-01-03\n",
       "freq                           1       4           1           1"
      ]
     },
     "metadata": {},
     "output_type": "display_data"
    }
   ],
   "source": [
    "df_analyse(ab_project_marketing_events)"
   ]
  },
  {
   "cell_type": "markdown",
   "metadata": {},
   "source": [
    "При первичном анализе датафрейма с маркетинговыми событиями **не было обнаружено пропусков в данных, а также явных дубликатов**. Столбцы проименованы корректно, переименование не требуется. Необходима смена типов данных в столбцах start_dt и finish_dt."
   ]
  },
  {
   "cell_type": "code",
   "execution_count": 7,
   "metadata": {},
   "outputs": [],
   "source": [
    "#пользователи, зарегистрировавшиеся с 7 до 21 декабря 2020 года\n",
    "final_ab_new_users = pd.read_csv('/Users/shepe/Downloads/final_ab_new_users.csv')"
   ]
  },
  {
   "cell_type": "code",
   "execution_count": 8,
   "metadata": {
    "scrolled": true
   },
   "outputs": [
    {
     "data": {
      "text/html": [
       "<div>\n",
       "<style scoped>\n",
       "    .dataframe tbody tr th:only-of-type {\n",
       "        vertical-align: middle;\n",
       "    }\n",
       "\n",
       "    .dataframe tbody tr th {\n",
       "        vertical-align: top;\n",
       "    }\n",
       "\n",
       "    .dataframe thead th {\n",
       "        text-align: right;\n",
       "    }\n",
       "</style>\n",
       "<table border=\"1\" class=\"dataframe\">\n",
       "  <thead>\n",
       "    <tr style=\"text-align: right;\">\n",
       "      <th></th>\n",
       "      <th>user_id</th>\n",
       "      <th>first_date</th>\n",
       "      <th>region</th>\n",
       "      <th>device</th>\n",
       "    </tr>\n",
       "  </thead>\n",
       "  <tbody>\n",
       "    <tr>\n",
       "      <th>0</th>\n",
       "      <td>D72A72121175D8BE</td>\n",
       "      <td>2020-12-07</td>\n",
       "      <td>EU</td>\n",
       "      <td>PC</td>\n",
       "    </tr>\n",
       "    <tr>\n",
       "      <th>1</th>\n",
       "      <td>F1C668619DFE6E65</td>\n",
       "      <td>2020-12-07</td>\n",
       "      <td>N.America</td>\n",
       "      <td>Android</td>\n",
       "    </tr>\n",
       "    <tr>\n",
       "      <th>2</th>\n",
       "      <td>2E1BF1D4C37EA01F</td>\n",
       "      <td>2020-12-07</td>\n",
       "      <td>EU</td>\n",
       "      <td>PC</td>\n",
       "    </tr>\n",
       "    <tr>\n",
       "      <th>3</th>\n",
       "      <td>50734A22C0C63768</td>\n",
       "      <td>2020-12-07</td>\n",
       "      <td>EU</td>\n",
       "      <td>iPhone</td>\n",
       "    </tr>\n",
       "    <tr>\n",
       "      <th>4</th>\n",
       "      <td>E1BDDCE0DAFA2679</td>\n",
       "      <td>2020-12-07</td>\n",
       "      <td>N.America</td>\n",
       "      <td>iPhone</td>\n",
       "    </tr>\n",
       "  </tbody>\n",
       "</table>\n",
       "</div>"
      ],
      "text/plain": [
       "            user_id  first_date     region   device\n",
       "0  D72A72121175D8BE  2020-12-07         EU       PC\n",
       "1  F1C668619DFE6E65  2020-12-07  N.America  Android\n",
       "2  2E1BF1D4C37EA01F  2020-12-07         EU       PC\n",
       "3  50734A22C0C63768  2020-12-07         EU   iPhone\n",
       "4  E1BDDCE0DAFA2679  2020-12-07  N.America   iPhone"
      ]
     },
     "metadata": {},
     "output_type": "display_data"
    },
    {
     "name": "stdout",
     "output_type": "stream",
     "text": [
      " \n",
      "Кол-во NaN: user_id       0\n",
      "first_date    0\n",
      "region        0\n",
      "device        0\n",
      "dtype: int64\n",
      " \n",
      "Явных дубликатов:0\n",
      " \n",
      "<class 'pandas.core.frame.DataFrame'>\n",
      "RangeIndex: 61733 entries, 0 to 61732\n",
      "Data columns (total 4 columns):\n",
      " #   Column      Non-Null Count  Dtype \n",
      "---  ------      --------------  ----- \n",
      " 0   user_id     61733 non-null  object\n",
      " 1   first_date  61733 non-null  object\n",
      " 2   region      61733 non-null  object\n",
      " 3   device      61733 non-null  object\n",
      "dtypes: object(4)\n",
      "memory usage: 1.9+ MB\n"
     ]
    },
    {
     "data": {
      "text/plain": [
       "None"
      ]
     },
     "metadata": {},
     "output_type": "display_data"
    },
    {
     "data": {
      "text/html": [
       "<div>\n",
       "<style scoped>\n",
       "    .dataframe tbody tr th:only-of-type {\n",
       "        vertical-align: middle;\n",
       "    }\n",
       "\n",
       "    .dataframe tbody tr th {\n",
       "        vertical-align: top;\n",
       "    }\n",
       "\n",
       "    .dataframe thead th {\n",
       "        text-align: right;\n",
       "    }\n",
       "</style>\n",
       "<table border=\"1\" class=\"dataframe\">\n",
       "  <thead>\n",
       "    <tr style=\"text-align: right;\">\n",
       "      <th></th>\n",
       "      <th>user_id</th>\n",
       "      <th>first_date</th>\n",
       "      <th>region</th>\n",
       "      <th>device</th>\n",
       "    </tr>\n",
       "  </thead>\n",
       "  <tbody>\n",
       "    <tr>\n",
       "      <th>count</th>\n",
       "      <td>61733</td>\n",
       "      <td>61733</td>\n",
       "      <td>61733</td>\n",
       "      <td>61733</td>\n",
       "    </tr>\n",
       "    <tr>\n",
       "      <th>unique</th>\n",
       "      <td>61733</td>\n",
       "      <td>17</td>\n",
       "      <td>4</td>\n",
       "      <td>4</td>\n",
       "    </tr>\n",
       "    <tr>\n",
       "      <th>top</th>\n",
       "      <td>D72A72121175D8BE</td>\n",
       "      <td>2020-12-21</td>\n",
       "      <td>EU</td>\n",
       "      <td>Android</td>\n",
       "    </tr>\n",
       "    <tr>\n",
       "      <th>freq</th>\n",
       "      <td>1</td>\n",
       "      <td>6290</td>\n",
       "      <td>46270</td>\n",
       "      <td>27520</td>\n",
       "    </tr>\n",
       "  </tbody>\n",
       "</table>\n",
       "</div>"
      ],
      "text/plain": [
       "                 user_id  first_date region   device\n",
       "count              61733       61733  61733    61733\n",
       "unique             61733          17      4        4\n",
       "top     D72A72121175D8BE  2020-12-21     EU  Android\n",
       "freq                   1        6290  46270    27520"
      ]
     },
     "metadata": {},
     "output_type": "display_data"
    }
   ],
   "source": [
    "df_analyse(final_ab_new_users)"
   ]
  },
  {
   "cell_type": "markdown",
   "metadata": {},
   "source": [
    "При первичном анализе датафрейма с новыми пользователями **не было обнаружено пропусков в данных, а также явных дубликатов**. Столбцы проименованы корректно, переименование не требуется. Необходима смена типов данных в столбце first_date. "
   ]
  },
  {
   "cell_type": "code",
   "execution_count": 9,
   "metadata": {},
   "outputs": [],
   "source": [
    " #таблица участников тестов\n",
    "final_ab_participants = pd.read_csv('/Users/shepe/Downloads/final_ab_participants.csv')"
   ]
  },
  {
   "cell_type": "code",
   "execution_count": 10,
   "metadata": {},
   "outputs": [
    {
     "data": {
      "text/html": [
       "<div>\n",
       "<style scoped>\n",
       "    .dataframe tbody tr th:only-of-type {\n",
       "        vertical-align: middle;\n",
       "    }\n",
       "\n",
       "    .dataframe tbody tr th {\n",
       "        vertical-align: top;\n",
       "    }\n",
       "\n",
       "    .dataframe thead th {\n",
       "        text-align: right;\n",
       "    }\n",
       "</style>\n",
       "<table border=\"1\" class=\"dataframe\">\n",
       "  <thead>\n",
       "    <tr style=\"text-align: right;\">\n",
       "      <th></th>\n",
       "      <th>user_id</th>\n",
       "      <th>group</th>\n",
       "      <th>ab_test</th>\n",
       "    </tr>\n",
       "  </thead>\n",
       "  <tbody>\n",
       "    <tr>\n",
       "      <th>0</th>\n",
       "      <td>D1ABA3E2887B6A73</td>\n",
       "      <td>A</td>\n",
       "      <td>recommender_system_test</td>\n",
       "    </tr>\n",
       "    <tr>\n",
       "      <th>1</th>\n",
       "      <td>A7A3664BD6242119</td>\n",
       "      <td>A</td>\n",
       "      <td>recommender_system_test</td>\n",
       "    </tr>\n",
       "    <tr>\n",
       "      <th>2</th>\n",
       "      <td>DABC14FDDFADD29E</td>\n",
       "      <td>A</td>\n",
       "      <td>recommender_system_test</td>\n",
       "    </tr>\n",
       "    <tr>\n",
       "      <th>3</th>\n",
       "      <td>04988C5DF189632E</td>\n",
       "      <td>A</td>\n",
       "      <td>recommender_system_test</td>\n",
       "    </tr>\n",
       "    <tr>\n",
       "      <th>4</th>\n",
       "      <td>482F14783456D21B</td>\n",
       "      <td>B</td>\n",
       "      <td>recommender_system_test</td>\n",
       "    </tr>\n",
       "  </tbody>\n",
       "</table>\n",
       "</div>"
      ],
      "text/plain": [
       "            user_id group                  ab_test\n",
       "0  D1ABA3E2887B6A73     A  recommender_system_test\n",
       "1  A7A3664BD6242119     A  recommender_system_test\n",
       "2  DABC14FDDFADD29E     A  recommender_system_test\n",
       "3  04988C5DF189632E     A  recommender_system_test\n",
       "4  482F14783456D21B     B  recommender_system_test"
      ]
     },
     "metadata": {},
     "output_type": "display_data"
    },
    {
     "name": "stdout",
     "output_type": "stream",
     "text": [
      " \n",
      "Кол-во NaN: user_id    0\n",
      "group      0\n",
      "ab_test    0\n",
      "dtype: int64\n",
      " \n",
      "Явных дубликатов:0\n",
      " \n",
      "<class 'pandas.core.frame.DataFrame'>\n",
      "RangeIndex: 18268 entries, 0 to 18267\n",
      "Data columns (total 3 columns):\n",
      " #   Column   Non-Null Count  Dtype \n",
      "---  ------   --------------  ----- \n",
      " 0   user_id  18268 non-null  object\n",
      " 1   group    18268 non-null  object\n",
      " 2   ab_test  18268 non-null  object\n",
      "dtypes: object(3)\n",
      "memory usage: 428.3+ KB\n"
     ]
    },
    {
     "data": {
      "text/plain": [
       "None"
      ]
     },
     "metadata": {},
     "output_type": "display_data"
    },
    {
     "data": {
      "text/html": [
       "<div>\n",
       "<style scoped>\n",
       "    .dataframe tbody tr th:only-of-type {\n",
       "        vertical-align: middle;\n",
       "    }\n",
       "\n",
       "    .dataframe tbody tr th {\n",
       "        vertical-align: top;\n",
       "    }\n",
       "\n",
       "    .dataframe thead th {\n",
       "        text-align: right;\n",
       "    }\n",
       "</style>\n",
       "<table border=\"1\" class=\"dataframe\">\n",
       "  <thead>\n",
       "    <tr style=\"text-align: right;\">\n",
       "      <th></th>\n",
       "      <th>user_id</th>\n",
       "      <th>group</th>\n",
       "      <th>ab_test</th>\n",
       "    </tr>\n",
       "  </thead>\n",
       "  <tbody>\n",
       "    <tr>\n",
       "      <th>count</th>\n",
       "      <td>18268</td>\n",
       "      <td>18268</td>\n",
       "      <td>18268</td>\n",
       "    </tr>\n",
       "    <tr>\n",
       "      <th>unique</th>\n",
       "      <td>16666</td>\n",
       "      <td>2</td>\n",
       "      <td>2</td>\n",
       "    </tr>\n",
       "    <tr>\n",
       "      <th>top</th>\n",
       "      <td>0FDFDA0B2DEC2D91</td>\n",
       "      <td>A</td>\n",
       "      <td>interface_eu_test</td>\n",
       "    </tr>\n",
       "    <tr>\n",
       "      <th>freq</th>\n",
       "      <td>2</td>\n",
       "      <td>9655</td>\n",
       "      <td>11567</td>\n",
       "    </tr>\n",
       "  </tbody>\n",
       "</table>\n",
       "</div>"
      ],
      "text/plain": [
       "                 user_id  group            ab_test\n",
       "count              18268  18268              18268\n",
       "unique             16666      2                  2\n",
       "top     0FDFDA0B2DEC2D91      A  interface_eu_test\n",
       "freq                   2   9655              11567"
      ]
     },
     "metadata": {},
     "output_type": "display_data"
    }
   ],
   "source": [
    "df_analyse(final_ab_participants)"
   ]
  },
  {
   "cell_type": "code",
   "execution_count": 11,
   "metadata": {},
   "outputs": [
    {
     "data": {
      "text/plain": [
       "interface_eu_test          11567\n",
       "recommender_system_test     6701\n",
       "Name: ab_test, dtype: int64"
      ]
     },
     "execution_count": 11,
     "metadata": {},
     "output_type": "execute_result"
    }
   ],
   "source": [
    "final_ab_participants['ab_test'].value_counts()"
   ]
  },
  {
   "cell_type": "markdown",
   "metadata": {},
   "source": [
    "При первичном анализе датафрейма с участниками тестов **не было обнаружено пропусков в данных, а также явных дубликатов**. Столбцы проименованы корректно, переименование не требуется. Смена типов данных не требуется.\n",
    "\n",
    "Также мы видим, что **в датафрейме предствлены участники двух конкурирующих тестов: interface_eu_test и recommender_system_test**."
   ]
  },
  {
   "cell_type": "markdown",
   "metadata": {},
   "source": [
    "## Предобработка данных"
   ]
  },
  {
   "cell_type": "markdown",
   "metadata": {},
   "source": [
    "### Заменим типы данных "
   ]
  },
  {
   "cell_type": "code",
   "execution_count": 12,
   "metadata": {},
   "outputs": [],
   "source": [
    "final_ab_events = final_ab_events.astype({'event_dt':'datetime64','details':'float32'})"
   ]
  },
  {
   "cell_type": "code",
   "execution_count": 13,
   "metadata": {},
   "outputs": [],
   "source": [
    "ab_project_marketing_events = ab_project_marketing_events.astype({'start_dt':'datetime64','finish_dt':'datetime64'})"
   ]
  },
  {
   "cell_type": "code",
   "execution_count": 14,
   "metadata": {},
   "outputs": [],
   "source": [
    "final_ab_new_users = final_ab_new_users.astype({'first_date':'datetime64'})"
   ]
  },
  {
   "cell_type": "markdown",
   "metadata": {},
   "source": [
    "### Обработка пропусков"
   ]
  },
  {
   "cell_type": "markdown",
   "metadata": {},
   "source": [
    "Пропуски данных присутствуют только в датафрейме final_ab_events в столбце details, там хранятся дополнительные данные о событии (например, стоимость покупки при действии purchase). \n",
    "\n",
    "При первичном анализе мы уже писали, что пропуски в этом столбце закономерны, поскольку не везде может присутствовать дополнительная информация, избавляться от них не будем, поставим заглушку нулем."
   ]
  },
  {
   "cell_type": "code",
   "execution_count": 15,
   "metadata": {},
   "outputs": [],
   "source": [
    "final_ab_events.loc[final_ab_events['details'].isna(), 'details'] = 0"
   ]
  },
  {
   "cell_type": "markdown",
   "metadata": {},
   "source": [
    "### Проверка дубликатов"
   ]
  },
  {
   "cell_type": "markdown",
   "metadata": {},
   "source": [
    "С помощью первичного анализа мы обнаружили, что явных дубликатов нет ни в одном из датафреймов. Проверим скрытые дубликаты."
   ]
  },
  {
   "cell_type": "code",
   "execution_count": 16,
   "metadata": {},
   "outputs": [
    {
     "data": {
      "text/plain": [
       "0"
      ]
     },
     "execution_count": 16,
     "metadata": {},
     "output_type": "execute_result"
    }
   ],
   "source": [
    "final_ab_events.duplicated(['user_id', 'event_dt','event_name']).sum()"
   ]
  },
  {
   "cell_type": "markdown",
   "metadata": {},
   "source": [
    "Неявных дубликатов в final_ab_events нет."
   ]
  },
  {
   "cell_type": "code",
   "execution_count": 17,
   "metadata": {},
   "outputs": [
    {
     "data": {
      "text/plain": [
       "0"
      ]
     },
     "execution_count": 17,
     "metadata": {},
     "output_type": "execute_result"
    }
   ],
   "source": [
    "ab_project_marketing_events.duplicated(['name']).sum()"
   ]
  },
  {
   "cell_type": "markdown",
   "metadata": {},
   "source": [
    "Неявных дубликатов в ab_project_marketing_events нет."
   ]
  },
  {
   "cell_type": "code",
   "execution_count": 18,
   "metadata": {},
   "outputs": [
    {
     "data": {
      "text/plain": [
       "0"
      ]
     },
     "execution_count": 18,
     "metadata": {},
     "output_type": "execute_result"
    }
   ],
   "source": [
    "final_ab_new_users.duplicated(['user_id']).sum()"
   ]
  },
  {
   "cell_type": "markdown",
   "metadata": {},
   "source": [
    "Неявных дубликатов в final_ab_new_users нет."
   ]
  },
  {
   "cell_type": "code",
   "execution_count": 19,
   "metadata": {},
   "outputs": [
    {
     "data": {
      "text/plain": [
       "1602"
      ]
     },
     "execution_count": 19,
     "metadata": {},
     "output_type": "execute_result"
    }
   ],
   "source": [
    "final_ab_participants.duplicated(['user_id']).sum()"
   ]
  },
  {
   "cell_type": "markdown",
   "metadata": {},
   "source": [
    "В датафрейме с участниками тестов **обнаружены дубликаты по уникальному номеру пользователя**: выясним природу этих дубликатов, они могут быть внутри одного теста (пользователь попал в две группы одного теста) или пользователи участвуют в двух конкурирующих тестах."
   ]
  },
  {
   "cell_type": "code",
   "execution_count": 20,
   "metadata": {},
   "outputs": [
    {
     "data": {
      "text/plain": [
       "0"
      ]
     },
     "execution_count": 20,
     "metadata": {},
     "output_type": "execute_result"
    }
   ],
   "source": [
    "final_ab_participants.duplicated(['user_id','ab_test']).sum()"
   ]
  },
  {
   "cell_type": "markdown",
   "metadata": {},
   "source": [
    "Мы выяснили, что пользователей, которые попали сразу в две группы одного теста, нет. Дублирующиеся значения уникальных идентификаторов возникли из-за пересечения аудиторий двух тестов. Соответственно, есть пользователи, которые участвуют в двух тестах одновременно. "
   ]
  },
  {
   "cell_type": "code",
   "execution_count": 21,
   "metadata": {},
   "outputs": [
    {
     "data": {
      "text/plain": [
       "'Пользователей, участвующих в двух пересекающихся тестах одновременно: 1602'"
      ]
     },
     "execution_count": 21,
     "metadata": {},
     "output_type": "execute_result"
    }
   ],
   "source": [
    "dupl_users = final_ab_participants.groupby('user_id',as_index=False).agg(count=('ab_test','count'))\\\n",
    "                                  .sort_values(by='count',ascending=False).query('count > 1')['user_id']\n",
    "\n",
    "f'Пользователей, участвующих в двух пересекающихся тестах одновременно: {len(dupl_users)}'"
   ]
  },
  {
   "cell_type": "markdown",
   "metadata": {},
   "source": [
    "Учтем наличие таких пользователей при оценке корректности проведения теста recommender_system_test."
   ]
  },
  {
   "cell_type": "markdown",
   "metadata": {},
   "source": [
    "### За какой период представлены данные?"
   ]
  },
  {
   "cell_type": "markdown",
   "metadata": {},
   "source": [
    "**Регистрация новых пользователей:**"
   ]
  },
  {
   "cell_type": "code",
   "execution_count": 22,
   "metadata": {
    "scrolled": true
   },
   "outputs": [
    {
     "data": {
      "text/html": [
       "<div>\n",
       "<style scoped>\n",
       "    .dataframe tbody tr th:only-of-type {\n",
       "        vertical-align: middle;\n",
       "    }\n",
       "\n",
       "    .dataframe tbody tr th {\n",
       "        vertical-align: top;\n",
       "    }\n",
       "\n",
       "    .dataframe thead th {\n",
       "        text-align: right;\n",
       "    }\n",
       "</style>\n",
       "<table border=\"1\" class=\"dataframe\">\n",
       "  <thead>\n",
       "    <tr style=\"text-align: right;\">\n",
       "      <th></th>\n",
       "      <th>user_id</th>\n",
       "      <th>first_date</th>\n",
       "      <th>region</th>\n",
       "      <th>device</th>\n",
       "    </tr>\n",
       "  </thead>\n",
       "  <tbody>\n",
       "    <tr>\n",
       "      <th>0</th>\n",
       "      <td>D72A72121175D8BE</td>\n",
       "      <td>2020-12-07</td>\n",
       "      <td>EU</td>\n",
       "      <td>PC</td>\n",
       "    </tr>\n",
       "    <tr>\n",
       "      <th>1</th>\n",
       "      <td>F1C668619DFE6E65</td>\n",
       "      <td>2020-12-07</td>\n",
       "      <td>N.America</td>\n",
       "      <td>Android</td>\n",
       "    </tr>\n",
       "    <tr>\n",
       "      <th>2</th>\n",
       "      <td>2E1BF1D4C37EA01F</td>\n",
       "      <td>2020-12-07</td>\n",
       "      <td>EU</td>\n",
       "      <td>PC</td>\n",
       "    </tr>\n",
       "    <tr>\n",
       "      <th>3</th>\n",
       "      <td>50734A22C0C63768</td>\n",
       "      <td>2020-12-07</td>\n",
       "      <td>EU</td>\n",
       "      <td>iPhone</td>\n",
       "    </tr>\n",
       "    <tr>\n",
       "      <th>4</th>\n",
       "      <td>E1BDDCE0DAFA2679</td>\n",
       "      <td>2020-12-07</td>\n",
       "      <td>N.America</td>\n",
       "      <td>iPhone</td>\n",
       "    </tr>\n",
       "  </tbody>\n",
       "</table>\n",
       "</div>"
      ],
      "text/plain": [
       "            user_id first_date     region   device\n",
       "0  D72A72121175D8BE 2020-12-07         EU       PC\n",
       "1  F1C668619DFE6E65 2020-12-07  N.America  Android\n",
       "2  2E1BF1D4C37EA01F 2020-12-07         EU       PC\n",
       "3  50734A22C0C63768 2020-12-07         EU   iPhone\n",
       "4  E1BDDCE0DAFA2679 2020-12-07  N.America   iPhone"
      ]
     },
     "execution_count": 22,
     "metadata": {},
     "output_type": "execute_result"
    }
   ],
   "source": [
    "final_ab_new_users.head()"
   ]
  },
  {
   "cell_type": "code",
   "execution_count": 23,
   "metadata": {},
   "outputs": [
    {
     "name": "stdout",
     "output_type": "stream",
     "text": [
      "Минимальная дата регистрации нового пользователя: 2020-12-07 00:00:00\n",
      "Максимальная дата регистрации нового пользователя: 2020-12-23 00:00:00\n"
     ]
    }
   ],
   "source": [
    "min_date = final_ab_new_users['first_date'].min()\n",
    "max_date = final_ab_new_users['first_date'].max()\n",
    "print(f'Минимальная дата регистрации нового пользователя: {min_date}')\n",
    "print(f'Максимальная дата регистрации нового пользователя: {max_date}')"
   ]
  },
  {
   "cell_type": "markdown",
   "metadata": {},
   "source": [
    "Новые пользователи регистрировались в период с 7 декабря по 23 декабря 2020 года. В описании данных указано, что датафрейм содержит информацию о пользователях, зарегистрировавшихся с 7 по 21 декабря. \n",
    "\n",
    "Соответственно, либо описание данных неверно, либо пользователи, регистрировавшиеся 22 и 23 декабря попали в датасет по ошибке."
   ]
  },
  {
   "cell_type": "markdown",
   "metadata": {},
   "source": [
    "**Действия новых пользователей:**"
   ]
  },
  {
   "cell_type": "code",
   "execution_count": 24,
   "metadata": {
    "scrolled": true
   },
   "outputs": [
    {
     "name": "stdout",
     "output_type": "stream",
     "text": [
      "Дата и время первого события в датасете final_ab_events: 2020-12-07 00:00:33\n",
      "Дата и время последнего события в датасете final_ab_events: 2020-12-30 23:36:33\n"
     ]
    }
   ],
   "source": [
    "min_date = final_ab_events['event_dt'].min()\n",
    "max_date = final_ab_events['event_dt'].max()\n",
    "print(f'Дата и время первого события в датасете final_ab_events: {min_date}')\n",
    "print(f'Дата и время последнего события в датасете final_ab_events: {max_date}')"
   ]
  },
  {
   "cell_type": "markdown",
   "metadata": {},
   "source": [
    "В данных события представлены за период с 7 декабря до 30 декабря 2020 года.\n",
    "\n",
    "В описании данных указано, что датасет хранит информацию о событиях пользователей в период с 7 декабря 2020 по 4 января 2021 года. Соответственно, либо пользователи не совершали действий с 31 декабря по 4 января, либо часть данных утеряна."
   ]
  },
  {
   "cell_type": "markdown",
   "metadata": {},
   "source": [
    "**Маркетинговые активности:**"
   ]
  },
  {
   "cell_type": "code",
   "execution_count": 25,
   "metadata": {},
   "outputs": [
    {
     "name": "stdout",
     "output_type": "stream",
     "text": [
      "Дата начала первой маркетинговой активности в 2020 году: 2020-01-25 00:00:00\n",
      "Дата начала последней маркетинговой активности в 2020 году: 2020-12-30 00:00:00\n",
      "Максимальная дата окончания маркетинговой активности: 2021-01-07 00:00:00\n"
     ]
    }
   ],
   "source": [
    "min_date_start = ab_project_marketing_events['start_dt'].min()\n",
    "max_date_start = ab_project_marketing_events['start_dt'].max()\n",
    "\n",
    "max_date = ab_project_marketing_events['finish_dt'].max()\n",
    "\n",
    "print(f'Дата начала первой маркетинговой активности в 2020 году: {min_date_start}')\n",
    "print(f'Дата начала последней маркетинговой активности в 2020 году: {max_date_start}')\n",
    "\n",
    "print(f'Максимальная дата окончания маркетинговой активности: {max_date}')"
   ]
  },
  {
   "cell_type": "markdown",
   "metadata": {},
   "source": [
    "Датасет с календарем маркетинговых активностей отражает те активности, которые начались в 2020 году: первая активность 25 января, последняя 30 декабря.\n",
    "\n",
    "Максимальная дата окончания маркетинговой активности — 7 января. "
   ]
  },
  {
   "cell_type": "markdown",
   "metadata": {},
   "source": [
    "### Какие действия совершали пользователи?"
   ]
  },
  {
   "cell_type": "code",
   "execution_count": 26,
   "metadata": {},
   "outputs": [
    {
     "data": {
      "text/plain": [
       "login           189552\n",
       "product_page    125563\n",
       "purchase         62740\n",
       "product_cart     62462\n",
       "Name: event_name, dtype: int64"
      ]
     },
     "execution_count": 26,
     "metadata": {},
     "output_type": "execute_result"
    }
   ],
   "source": [
    "final_ab_events['event_name'].value_counts()"
   ]
  },
  {
   "cell_type": "markdown",
   "metadata": {},
   "source": [
    "В датасете с действиями новых пользователей мы видим четыре типа событий: **логин, просмотр карточки товара (product_page), покупка (purchase) и просмотры корзины (product_cart)**. \n",
    "\n",
    "По логике путь пользователя предполагается следующий: логин, просмотр карточек, просмотр корзины и покупка. Причем, вероятно, возможна и покупка минуя корзину. "
   ]
  },
  {
   "cell_type": "markdown",
   "metadata": {},
   "source": [
    "### Откуда пользователи?"
   ]
  },
  {
   "cell_type": "code",
   "execution_count": 27,
   "metadata": {
    "scrolled": true
   },
   "outputs": [
    {
     "data": {
      "text/plain": [
       "EU           46270\n",
       "N.America     9155\n",
       "CIS           3155\n",
       "APAC          3153\n",
       "Name: region, dtype: int64"
      ]
     },
     "execution_count": 27,
     "metadata": {},
     "output_type": "execute_result"
    }
   ],
   "source": [
    "final_ab_new_users['region'].value_counts()"
   ]
  },
  {
   "cell_type": "markdown",
   "metadata": {},
   "source": [
    "Большая часть новых пользователей из Европы, также есть жители Северной Америки, СНГ и Азиатско-Тихоокеанского региона (APAC)."
   ]
  },
  {
   "cell_type": "markdown",
   "metadata": {},
   "source": [
    "## Оценка корректности проведения теста"
   ]
  },
  {
   "cell_type": "markdown",
   "metadata": {},
   "source": [
    "### Проверим соответствие данных требованиям ТЗ:"
   ]
  },
  {
   "cell_type": "markdown",
   "metadata": {},
   "source": [
    "**1) дата запуска: 2020-12-07 + дата остановки набора новых пользователей: 2020-12-21 + дата остановки: 2021-01-04**"
   ]
  },
  {
   "cell_type": "code",
   "execution_count": 28,
   "metadata": {},
   "outputs": [
    {
     "data": {
      "text/html": [
       "<div>\n",
       "<style scoped>\n",
       "    .dataframe tbody tr th:only-of-type {\n",
       "        vertical-align: middle;\n",
       "    }\n",
       "\n",
       "    .dataframe tbody tr th {\n",
       "        vertical-align: top;\n",
       "    }\n",
       "\n",
       "    .dataframe thead th {\n",
       "        text-align: right;\n",
       "    }\n",
       "</style>\n",
       "<table border=\"1\" class=\"dataframe\">\n",
       "  <thead>\n",
       "    <tr style=\"text-align: right;\">\n",
       "      <th></th>\n",
       "      <th>user_id</th>\n",
       "      <th>first_date</th>\n",
       "      <th>region</th>\n",
       "      <th>device</th>\n",
       "    </tr>\n",
       "  </thead>\n",
       "  <tbody>\n",
       "    <tr>\n",
       "      <th>0</th>\n",
       "      <td>D72A72121175D8BE</td>\n",
       "      <td>2020-12-07</td>\n",
       "      <td>EU</td>\n",
       "      <td>PC</td>\n",
       "    </tr>\n",
       "    <tr>\n",
       "      <th>1</th>\n",
       "      <td>F1C668619DFE6E65</td>\n",
       "      <td>2020-12-07</td>\n",
       "      <td>N.America</td>\n",
       "      <td>Android</td>\n",
       "    </tr>\n",
       "    <tr>\n",
       "      <th>2</th>\n",
       "      <td>2E1BF1D4C37EA01F</td>\n",
       "      <td>2020-12-07</td>\n",
       "      <td>EU</td>\n",
       "      <td>PC</td>\n",
       "    </tr>\n",
       "    <tr>\n",
       "      <th>3</th>\n",
       "      <td>50734A22C0C63768</td>\n",
       "      <td>2020-12-07</td>\n",
       "      <td>EU</td>\n",
       "      <td>iPhone</td>\n",
       "    </tr>\n",
       "    <tr>\n",
       "      <th>4</th>\n",
       "      <td>E1BDDCE0DAFA2679</td>\n",
       "      <td>2020-12-07</td>\n",
       "      <td>N.America</td>\n",
       "      <td>iPhone</td>\n",
       "    </tr>\n",
       "  </tbody>\n",
       "</table>\n",
       "</div>"
      ],
      "text/plain": [
       "            user_id first_date     region   device\n",
       "0  D72A72121175D8BE 2020-12-07         EU       PC\n",
       "1  F1C668619DFE6E65 2020-12-07  N.America  Android\n",
       "2  2E1BF1D4C37EA01F 2020-12-07         EU       PC\n",
       "3  50734A22C0C63768 2020-12-07         EU   iPhone\n",
       "4  E1BDDCE0DAFA2679 2020-12-07  N.America   iPhone"
      ]
     },
     "execution_count": 28,
     "metadata": {},
     "output_type": "execute_result"
    }
   ],
   "source": [
    "final_ab_new_users.head()"
   ]
  },
  {
   "cell_type": "code",
   "execution_count": 29,
   "metadata": {},
   "outputs": [
    {
     "data": {
      "text/html": [
       "<div>\n",
       "<style scoped>\n",
       "    .dataframe tbody tr th:only-of-type {\n",
       "        vertical-align: middle;\n",
       "    }\n",
       "\n",
       "    .dataframe tbody tr th {\n",
       "        vertical-align: top;\n",
       "    }\n",
       "\n",
       "    .dataframe thead th {\n",
       "        text-align: right;\n",
       "    }\n",
       "</style>\n",
       "<table border=\"1\" class=\"dataframe\">\n",
       "  <thead>\n",
       "    <tr style=\"text-align: right;\">\n",
       "      <th></th>\n",
       "      <th>user_id</th>\n",
       "      <th>group</th>\n",
       "      <th>ab_test</th>\n",
       "    </tr>\n",
       "  </thead>\n",
       "  <tbody>\n",
       "    <tr>\n",
       "      <th>0</th>\n",
       "      <td>D1ABA3E2887B6A73</td>\n",
       "      <td>A</td>\n",
       "      <td>recommender_system_test</td>\n",
       "    </tr>\n",
       "    <tr>\n",
       "      <th>1</th>\n",
       "      <td>A7A3664BD6242119</td>\n",
       "      <td>A</td>\n",
       "      <td>recommender_system_test</td>\n",
       "    </tr>\n",
       "    <tr>\n",
       "      <th>2</th>\n",
       "      <td>DABC14FDDFADD29E</td>\n",
       "      <td>A</td>\n",
       "      <td>recommender_system_test</td>\n",
       "    </tr>\n",
       "    <tr>\n",
       "      <th>3</th>\n",
       "      <td>04988C5DF189632E</td>\n",
       "      <td>A</td>\n",
       "      <td>recommender_system_test</td>\n",
       "    </tr>\n",
       "    <tr>\n",
       "      <th>4</th>\n",
       "      <td>482F14783456D21B</td>\n",
       "      <td>B</td>\n",
       "      <td>recommender_system_test</td>\n",
       "    </tr>\n",
       "  </tbody>\n",
       "</table>\n",
       "</div>"
      ],
      "text/plain": [
       "            user_id group                  ab_test\n",
       "0  D1ABA3E2887B6A73     A  recommender_system_test\n",
       "1  A7A3664BD6242119     A  recommender_system_test\n",
       "2  DABC14FDDFADD29E     A  recommender_system_test\n",
       "3  04988C5DF189632E     A  recommender_system_test\n",
       "4  482F14783456D21B     B  recommender_system_test"
      ]
     },
     "execution_count": 29,
     "metadata": {},
     "output_type": "execute_result"
    }
   ],
   "source": [
    "final_ab_participants.head()"
   ]
  },
  {
   "cell_type": "markdown",
   "metadata": {},
   "source": [
    "Как мы ранее отметили, в датасете с новыми зарегистрировавшимися пользователями есть люди, которые зарегистрировались после 21 декабря (что не соответствует ТЗ). Таких людей не должно быть в нашем тесте. "
   ]
  },
  {
   "cell_type": "code",
   "execution_count": 30,
   "metadata": {},
   "outputs": [],
   "source": [
    "#пользователи с регистрацией \n",
    "post_users = final_ab_new_users.query(\"first_date > '2020-12-21'\")['user_id']"
   ]
  },
  {
   "cell_type": "code",
   "execution_count": 31,
   "metadata": {},
   "outputs": [],
   "source": [
    "#создадим срез пользователей нашего теста\n",
    "rec_final_ab_participants = final_ab_participants.query(\"ab_test == 'recommender_system_test'\")"
   ]
  },
  {
   "cell_type": "code",
   "execution_count": 32,
   "metadata": {},
   "outputs": [
    {
     "data": {
      "text/html": [
       "<div>\n",
       "<style scoped>\n",
       "    .dataframe tbody tr th:only-of-type {\n",
       "        vertical-align: middle;\n",
       "    }\n",
       "\n",
       "    .dataframe tbody tr th {\n",
       "        vertical-align: top;\n",
       "    }\n",
       "\n",
       "    .dataframe thead th {\n",
       "        text-align: right;\n",
       "    }\n",
       "</style>\n",
       "<table border=\"1\" class=\"dataframe\">\n",
       "  <thead>\n",
       "    <tr style=\"text-align: right;\">\n",
       "      <th></th>\n",
       "      <th>user_id</th>\n",
       "      <th>group</th>\n",
       "      <th>ab_test</th>\n",
       "    </tr>\n",
       "  </thead>\n",
       "  <tbody>\n",
       "  </tbody>\n",
       "</table>\n",
       "</div>"
      ],
      "text/plain": [
       "Empty DataFrame\n",
       "Columns: [user_id, group, ab_test]\n",
       "Index: []"
      ]
     },
     "execution_count": 32,
     "metadata": {},
     "output_type": "execute_result"
    }
   ],
   "source": [
    "rec_final_ab_participants.query('user_id.isin(@post_users)')"
   ]
  },
  {
   "cell_type": "markdown",
   "metadata": {},
   "source": [
    "Пользователи, зарегистрировавшиеся после 21 декабря в тест не попали, ранее 7 декабря пользователи не регистрировались (проверили это на этапе предобработки данных) условие ТЗ выполняется."
   ]
  },
  {
   "cell_type": "markdown",
   "metadata": {},
   "source": [
    "**2) дата остановки теста: 2021-01-04**"
   ]
  },
  {
   "cell_type": "markdown",
   "metadata": {},
   "source": [
    "В данных (final_ab_events) события представлены за период с 7 декабря до 30 декабря 2020 года. Ранее мы писали, что соответственно, либо пользователи не совершали действий с 31 декабря по 4 января, либо часть данных утеряна.\n",
    "\n",
    "То есть, по сути требование ТЗ не выполняется. Более того, в случае, если часть данных утеряна, необходимо также скорректировать дату остановки набора пользователей: сейчас это 21 декабря, а грамотнее было бы сдвинуть до 16 декабря (чтобы для каждого пользователя было 14 дней лайфтайма)."
   ]
  },
  {
   "cell_type": "markdown",
   "metadata": {},
   "source": [
    "### Изучим аудиторию теста более подробно"
   ]
  },
  {
   "cell_type": "markdown",
   "metadata": {},
   "source": [
    "**3)в тест должно быть отобрано 15% новых пользователей из региона EU**"
   ]
  },
  {
   "cell_type": "code",
   "execution_count": 33,
   "metadata": {},
   "outputs": [],
   "source": [
    "#общее кол-во новых пользователей из Европы\n",
    "eu_sum = final_ab_new_users.query(\"region == 'EU' and first_date < '2020-12-21'\")['user_id']"
   ]
  },
  {
   "cell_type": "code",
   "execution_count": 34,
   "metadata": {},
   "outputs": [],
   "source": [
    "#количество пользвоателей нашего теста из Европы\n",
    "eu_test_sum = rec_final_ab_participants.query(\"user_id.isin(@eu_sum)\")['user_id'].count()"
   ]
  },
  {
   "cell_type": "code",
   "execution_count": 35,
   "metadata": {},
   "outputs": [
    {
     "data": {
      "text/plain": [
       "'В тест было отобрано 15.04% новых пользователей из Европы'"
      ]
     },
     "execution_count": 35,
     "metadata": {},
     "output_type": "execute_result"
    }
   ],
   "source": [
    "f'В тест было отобрано {round(eu_test_sum/len(eu_sum)*100,2)}% новых пользователей из Европы'"
   ]
  },
  {
   "cell_type": "markdown",
   "metadata": {},
   "source": [
    "Условие ТЗ выполняется. "
   ]
  },
  {
   "cell_type": "markdown",
   "metadata": {},
   "source": [
    "**4) ожидаемое количество участников теста: 6000**"
   ]
  },
  {
   "cell_type": "code",
   "execution_count": 36,
   "metadata": {},
   "outputs": [
    {
     "data": {
      "text/plain": [
       "6701"
      ]
     },
     "execution_count": 36,
     "metadata": {},
     "output_type": "execute_result"
    }
   ],
   "source": [
    "rec_final_ab_participants['user_id'].count()"
   ]
  },
  {
   "cell_type": "markdown",
   "metadata": {},
   "source": [
    "До проверок и изменения данных условие ТЗ выполняется, однако мы уже обнаружили дублирующихся пользователей в двух конкурирующих тестах на этапе предобработки, поэтому после преобразований, количество участников вероятно уменьшится."
   ]
  },
  {
   "cell_type": "markdown",
   "metadata": {},
   "source": [
    "**На этапе предобработки данных мы выяснили, что пользователей, которые одновременно попали в группу А (контрольная группа) и в группу В (экспериментальная группа) нашего теста, нет, однако мы обнаружили, что существуют пользователи, которые участвовали и в конкурирующем тесте, решим, что делать с такими пользователями.**"
   ]
  },
  {
   "cell_type": "markdown",
   "metadata": {},
   "source": [
    "Проведем z-тест на равенство долей пользователей, участвующих в пересекающихся тестах, в обеих группах нашего теста. \n",
    "\n",
    "- H0: Между долями нет значимой разницы\n",
    "- H1: Между долями есть статистически значимая разница"
   ]
  },
  {
   "cell_type": "code",
   "execution_count": 37,
   "metadata": {},
   "outputs": [
    {
     "name": "stdout",
     "output_type": "stream",
     "text": [
      "Доля пересекающихся в группе А: 0.24\n",
      "Доля пересекающихся в группе B: 0.24\n",
      "Уровень значимости: 0.6939301135009055\n",
      "Не удалось отвергнуть нулевую гипотезу о равенстве долей\n"
     ]
    }
   ],
   "source": [
    "#уровень значимости\n",
    "alpha = 0.05\n",
    "\n",
    "#пропорция в группе А\n",
    "\n",
    "num_dupl_a = len(rec_final_ab_participants.query(\"user_id.isin(@dupl_users) and group == 'A'\")['user_id'])\n",
    "num_a = len(rec_final_ab_participants.query(\"group == 'A'\")['user_id'])\n",
    "\n",
    "prop_a = num_dupl_a/num_a\n",
    "\n",
    "#пропорция в группе B\n",
    "num_dupl_b = len(rec_final_ab_participants.query(\"user_id.isin(@dupl_users) and group == 'B'\")['user_id'])\n",
    "num_b = len(rec_final_ab_participants.query(\"group == 'B'\")['user_id'])\n",
    "\n",
    "prop_b = num_dupl_b/num_b\n",
    "\n",
    "p_cum= len(dupl_users)/len(rec_final_ab_participants['user_id'])\n",
    "\n",
    "difference = prop_a-prop_b\n",
    "\n",
    "z_value = difference/mth.sqrt(p_cum*(1-p_cum)*(1/num_a +1/num_b))# ваш код\n",
    "distr = stats.norm(0, 1)  \n",
    "\n",
    "p_value = (1 - distr.cdf(abs(z_value))) * 2 \n",
    "\n",
    "if p_value < alpha:\n",
    "    print(f'Доля пересекающихся в группе А: {round(prop_a,2)}')\n",
    "    print(f'Доля пересекающихся в группе B: {round(prop_b,2)}')\n",
    "    print(f'Уровень значимости: {p_value}')\n",
    "    print('Отвергаем нулевую гипотезу о равенстве долей')\n",
    "\n",
    "else:\n",
    "    print(f'Доля пересекающихся в группе А: {round(prop_a,2)}')\n",
    "    print(f'Доля пересекающихся в группе B: {round(prop_b,2)}')\n",
    "    print(f'Уровень значимости: {p_value}')\n",
    "    print('Не удалось отвергнуть нулевую гипотезу о равенстве долей')"
   ]
  },
  {
   "cell_type": "markdown",
   "metadata": {},
   "source": [
    "Исходя из статистического теста, не удалось подтвердить статистическую разницу в долях пересекающихся пользователей между двумя группами теста. Поэтому такие пользователи вероятно одинаково повлияют на результаты теста. Можем не избавляться от них."
   ]
  },
  {
   "cell_type": "code",
   "execution_count": 38,
   "metadata": {},
   "outputs": [],
   "source": [
    "#убираем столбец с названием теста, поскольку в датафрейме только срез нашего теста\n",
    "rec_final_ab_participants = rec_final_ab_participants.drop('ab_test',axis=1)"
   ]
  },
  {
   "cell_type": "code",
   "execution_count": 39,
   "metadata": {},
   "outputs": [
    {
     "data": {
      "text/html": [
       "<div>\n",
       "<style scoped>\n",
       "    .dataframe tbody tr th:only-of-type {\n",
       "        vertical-align: middle;\n",
       "    }\n",
       "\n",
       "    .dataframe tbody tr th {\n",
       "        vertical-align: top;\n",
       "    }\n",
       "\n",
       "    .dataframe thead th {\n",
       "        text-align: right;\n",
       "    }\n",
       "</style>\n",
       "<table border=\"1\" class=\"dataframe\">\n",
       "  <thead>\n",
       "    <tr style=\"text-align: right;\">\n",
       "      <th></th>\n",
       "      <th>user_id</th>\n",
       "      <th>first_date</th>\n",
       "      <th>region</th>\n",
       "      <th>device</th>\n",
       "    </tr>\n",
       "  </thead>\n",
       "  <tbody>\n",
       "    <tr>\n",
       "      <th>0</th>\n",
       "      <td>D72A72121175D8BE</td>\n",
       "      <td>2020-12-07</td>\n",
       "      <td>EU</td>\n",
       "      <td>PC</td>\n",
       "    </tr>\n",
       "    <tr>\n",
       "      <th>1</th>\n",
       "      <td>F1C668619DFE6E65</td>\n",
       "      <td>2020-12-07</td>\n",
       "      <td>N.America</td>\n",
       "      <td>Android</td>\n",
       "    </tr>\n",
       "    <tr>\n",
       "      <th>2</th>\n",
       "      <td>2E1BF1D4C37EA01F</td>\n",
       "      <td>2020-12-07</td>\n",
       "      <td>EU</td>\n",
       "      <td>PC</td>\n",
       "    </tr>\n",
       "    <tr>\n",
       "      <th>3</th>\n",
       "      <td>50734A22C0C63768</td>\n",
       "      <td>2020-12-07</td>\n",
       "      <td>EU</td>\n",
       "      <td>iPhone</td>\n",
       "    </tr>\n",
       "    <tr>\n",
       "      <th>4</th>\n",
       "      <td>E1BDDCE0DAFA2679</td>\n",
       "      <td>2020-12-07</td>\n",
       "      <td>N.America</td>\n",
       "      <td>iPhone</td>\n",
       "    </tr>\n",
       "  </tbody>\n",
       "</table>\n",
       "</div>"
      ],
      "text/plain": [
       "            user_id first_date     region   device\n",
       "0  D72A72121175D8BE 2020-12-07         EU       PC\n",
       "1  F1C668619DFE6E65 2020-12-07  N.America  Android\n",
       "2  2E1BF1D4C37EA01F 2020-12-07         EU       PC\n",
       "3  50734A22C0C63768 2020-12-07         EU   iPhone\n",
       "4  E1BDDCE0DAFA2679 2020-12-07  N.America   iPhone"
      ]
     },
     "execution_count": 39,
     "metadata": {},
     "output_type": "execute_result"
    }
   ],
   "source": [
    "final_ab_new_users.head()"
   ]
  },
  {
   "cell_type": "code",
   "execution_count": 40,
   "metadata": {},
   "outputs": [
    {
     "data": {
      "text/html": [
       "<div>\n",
       "<style scoped>\n",
       "    .dataframe tbody tr th:only-of-type {\n",
       "        vertical-align: middle;\n",
       "    }\n",
       "\n",
       "    .dataframe tbody tr th {\n",
       "        vertical-align: top;\n",
       "    }\n",
       "\n",
       "    .dataframe thead th {\n",
       "        text-align: right;\n",
       "    }\n",
       "</style>\n",
       "<table border=\"1\" class=\"dataframe\">\n",
       "  <thead>\n",
       "    <tr style=\"text-align: right;\">\n",
       "      <th></th>\n",
       "      <th>user_id</th>\n",
       "      <th>group</th>\n",
       "      <th>first_date</th>\n",
       "      <th>region</th>\n",
       "      <th>device</th>\n",
       "    </tr>\n",
       "  </thead>\n",
       "  <tbody>\n",
       "    <tr>\n",
       "      <th>0</th>\n",
       "      <td>D1ABA3E2887B6A73</td>\n",
       "      <td>A</td>\n",
       "      <td>2020-12-07</td>\n",
       "      <td>EU</td>\n",
       "      <td>PC</td>\n",
       "    </tr>\n",
       "    <tr>\n",
       "      <th>1</th>\n",
       "      <td>A7A3664BD6242119</td>\n",
       "      <td>A</td>\n",
       "      <td>2020-12-20</td>\n",
       "      <td>EU</td>\n",
       "      <td>iPhone</td>\n",
       "    </tr>\n",
       "    <tr>\n",
       "      <th>2</th>\n",
       "      <td>DABC14FDDFADD29E</td>\n",
       "      <td>A</td>\n",
       "      <td>2020-12-08</td>\n",
       "      <td>EU</td>\n",
       "      <td>Mac</td>\n",
       "    </tr>\n",
       "    <tr>\n",
       "      <th>3</th>\n",
       "      <td>04988C5DF189632E</td>\n",
       "      <td>A</td>\n",
       "      <td>2020-12-14</td>\n",
       "      <td>EU</td>\n",
       "      <td>iPhone</td>\n",
       "    </tr>\n",
       "    <tr>\n",
       "      <th>4</th>\n",
       "      <td>482F14783456D21B</td>\n",
       "      <td>B</td>\n",
       "      <td>2020-12-14</td>\n",
       "      <td>EU</td>\n",
       "      <td>PC</td>\n",
       "    </tr>\n",
       "    <tr>\n",
       "      <th>...</th>\n",
       "      <td>...</td>\n",
       "      <td>...</td>\n",
       "      <td>...</td>\n",
       "      <td>...</td>\n",
       "      <td>...</td>\n",
       "    </tr>\n",
       "    <tr>\n",
       "      <th>6696</th>\n",
       "      <td>053FB26D6D49EDDC</td>\n",
       "      <td>A</td>\n",
       "      <td>2020-12-10</td>\n",
       "      <td>N.America</td>\n",
       "      <td>Android</td>\n",
       "    </tr>\n",
       "    <tr>\n",
       "      <th>6697</th>\n",
       "      <td>9D263B8EF15CF188</td>\n",
       "      <td>B</td>\n",
       "      <td>2020-12-16</td>\n",
       "      <td>N.America</td>\n",
       "      <td>Mac</td>\n",
       "    </tr>\n",
       "    <tr>\n",
       "      <th>6698</th>\n",
       "      <td>F2FBBA33F37DEC46</td>\n",
       "      <td>A</td>\n",
       "      <td>2020-12-18</td>\n",
       "      <td>APAC</td>\n",
       "      <td>Mac</td>\n",
       "    </tr>\n",
       "    <tr>\n",
       "      <th>6699</th>\n",
       "      <td>29C92313A98B1176</td>\n",
       "      <td>B</td>\n",
       "      <td>2020-12-07</td>\n",
       "      <td>APAC</td>\n",
       "      <td>Android</td>\n",
       "    </tr>\n",
       "    <tr>\n",
       "      <th>6700</th>\n",
       "      <td>6715343AFBA285AE</td>\n",
       "      <td>B</td>\n",
       "      <td>2020-12-07</td>\n",
       "      <td>CIS</td>\n",
       "      <td>Android</td>\n",
       "    </tr>\n",
       "  </tbody>\n",
       "</table>\n",
       "<p>6701 rows × 5 columns</p>\n",
       "</div>"
      ],
      "text/plain": [
       "               user_id group first_date     region   device\n",
       "0     D1ABA3E2887B6A73     A 2020-12-07         EU       PC\n",
       "1     A7A3664BD6242119     A 2020-12-20         EU   iPhone\n",
       "2     DABC14FDDFADD29E     A 2020-12-08         EU      Mac\n",
       "3     04988C5DF189632E     A 2020-12-14         EU   iPhone\n",
       "4     482F14783456D21B     B 2020-12-14         EU       PC\n",
       "...                ...   ...        ...        ...      ...\n",
       "6696  053FB26D6D49EDDC     A 2020-12-10  N.America  Android\n",
       "6697  9D263B8EF15CF188     B 2020-12-16  N.America      Mac\n",
       "6698  F2FBBA33F37DEC46     A 2020-12-18       APAC      Mac\n",
       "6699  29C92313A98B1176     B 2020-12-07       APAC  Android\n",
       "6700  6715343AFBA285AE     B 2020-12-07        CIS  Android\n",
       "\n",
       "[6701 rows x 5 columns]"
      ]
     },
     "execution_count": 40,
     "metadata": {},
     "output_type": "execute_result"
    }
   ],
   "source": [
    "#создадим объединенный датафрейм с регионом пользователя и датой его регистрации \n",
    "rec_final_ab_participants = rec_final_ab_participants.merge(final_ab_new_users, how='left')\n",
    "rec_final_ab_participants"
   ]
  },
  {
   "cell_type": "code",
   "execution_count": 41,
   "metadata": {},
   "outputs": [
    {
     "data": {
      "text/html": [
       "<div>\n",
       "<style scoped>\n",
       "    .dataframe tbody tr th:only-of-type {\n",
       "        vertical-align: middle;\n",
       "    }\n",
       "\n",
       "    .dataframe tbody tr th {\n",
       "        vertical-align: top;\n",
       "    }\n",
       "\n",
       "    .dataframe thead th {\n",
       "        text-align: right;\n",
       "    }\n",
       "</style>\n",
       "<table border=\"1\" class=\"dataframe\">\n",
       "  <thead>\n",
       "    <tr style=\"text-align: right;\">\n",
       "      <th></th>\n",
       "      <th>region</th>\n",
       "      <th>group</th>\n",
       "      <th>count</th>\n",
       "    </tr>\n",
       "  </thead>\n",
       "  <tbody>\n",
       "    <tr>\n",
       "      <th>4</th>\n",
       "      <td>EU</td>\n",
       "      <td>A</td>\n",
       "      <td>3634</td>\n",
       "    </tr>\n",
       "    <tr>\n",
       "      <th>5</th>\n",
       "      <td>EU</td>\n",
       "      <td>B</td>\n",
       "      <td>2717</td>\n",
       "    </tr>\n",
       "    <tr>\n",
       "      <th>6</th>\n",
       "      <td>N.America</td>\n",
       "      <td>A</td>\n",
       "      <td>128</td>\n",
       "    </tr>\n",
       "    <tr>\n",
       "      <th>7</th>\n",
       "      <td>N.America</td>\n",
       "      <td>B</td>\n",
       "      <td>95</td>\n",
       "    </tr>\n",
       "    <tr>\n",
       "      <th>0</th>\n",
       "      <td>APAC</td>\n",
       "      <td>A</td>\n",
       "      <td>37</td>\n",
       "    </tr>\n",
       "    <tr>\n",
       "      <th>1</th>\n",
       "      <td>APAC</td>\n",
       "      <td>B</td>\n",
       "      <td>35</td>\n",
       "    </tr>\n",
       "    <tr>\n",
       "      <th>3</th>\n",
       "      <td>CIS</td>\n",
       "      <td>B</td>\n",
       "      <td>30</td>\n",
       "    </tr>\n",
       "    <tr>\n",
       "      <th>2</th>\n",
       "      <td>CIS</td>\n",
       "      <td>A</td>\n",
       "      <td>25</td>\n",
       "    </tr>\n",
       "  </tbody>\n",
       "</table>\n",
       "</div>"
      ],
      "text/plain": [
       "      region group  count\n",
       "4         EU     A   3634\n",
       "5         EU     B   2717\n",
       "6  N.America     A    128\n",
       "7  N.America     B     95\n",
       "0       APAC     A     37\n",
       "1       APAC     B     35\n",
       "3        CIS     B     30\n",
       "2        CIS     A     25"
      ]
     },
     "execution_count": 41,
     "metadata": {},
     "output_type": "execute_result"
    }
   ],
   "source": [
    "#проверим, все ли пользователи из Европы\n",
    "rec_final_ab_participants.groupby(['region','group'],as_index=False).agg(count=('user_id','count'))\\\n",
    "                         .sort_values(by='count',ascending=False)"
   ]
  },
  {
   "cell_type": "markdown",
   "metadata": {},
   "source": [
    "Поскольку в наш тест должны были попасть только пользователи из Европы, уберем пользователей из других регионов. У нас не совсем равномерное распределение в долях между группами, к тому же их количество более 1%. Поэтому чтобы результаты теста не исказились, избавимся от них."
   ]
  },
  {
   "cell_type": "code",
   "execution_count": 42,
   "metadata": {},
   "outputs": [
    {
     "data": {
      "text/html": [
       "<div>\n",
       "<style scoped>\n",
       "    .dataframe tbody tr th:only-of-type {\n",
       "        vertical-align: middle;\n",
       "    }\n",
       "\n",
       "    .dataframe tbody tr th {\n",
       "        vertical-align: top;\n",
       "    }\n",
       "\n",
       "    .dataframe thead th {\n",
       "        text-align: right;\n",
       "    }\n",
       "</style>\n",
       "<table border=\"1\" class=\"dataframe\">\n",
       "  <thead>\n",
       "    <tr style=\"text-align: right;\">\n",
       "      <th></th>\n",
       "      <th>user_id</th>\n",
       "      <th>group</th>\n",
       "      <th>first_date</th>\n",
       "      <th>region</th>\n",
       "      <th>device</th>\n",
       "    </tr>\n",
       "  </thead>\n",
       "  <tbody>\n",
       "    <tr>\n",
       "      <th>0</th>\n",
       "      <td>D1ABA3E2887B6A73</td>\n",
       "      <td>A</td>\n",
       "      <td>2020-12-07</td>\n",
       "      <td>EU</td>\n",
       "      <td>PC</td>\n",
       "    </tr>\n",
       "    <tr>\n",
       "      <th>1</th>\n",
       "      <td>A7A3664BD6242119</td>\n",
       "      <td>A</td>\n",
       "      <td>2020-12-20</td>\n",
       "      <td>EU</td>\n",
       "      <td>iPhone</td>\n",
       "    </tr>\n",
       "    <tr>\n",
       "      <th>2</th>\n",
       "      <td>DABC14FDDFADD29E</td>\n",
       "      <td>A</td>\n",
       "      <td>2020-12-08</td>\n",
       "      <td>EU</td>\n",
       "      <td>Mac</td>\n",
       "    </tr>\n",
       "    <tr>\n",
       "      <th>3</th>\n",
       "      <td>04988C5DF189632E</td>\n",
       "      <td>A</td>\n",
       "      <td>2020-12-14</td>\n",
       "      <td>EU</td>\n",
       "      <td>iPhone</td>\n",
       "    </tr>\n",
       "    <tr>\n",
       "      <th>4</th>\n",
       "      <td>482F14783456D21B</td>\n",
       "      <td>B</td>\n",
       "      <td>2020-12-14</td>\n",
       "      <td>EU</td>\n",
       "      <td>PC</td>\n",
       "    </tr>\n",
       "    <tr>\n",
       "      <th>...</th>\n",
       "      <td>...</td>\n",
       "      <td>...</td>\n",
       "      <td>...</td>\n",
       "      <td>...</td>\n",
       "      <td>...</td>\n",
       "    </tr>\n",
       "    <tr>\n",
       "      <th>6346</th>\n",
       "      <td>7C5C12FA1B5AB710</td>\n",
       "      <td>A</td>\n",
       "      <td>2020-12-21</td>\n",
       "      <td>EU</td>\n",
       "      <td>Android</td>\n",
       "    </tr>\n",
       "    <tr>\n",
       "      <th>6347</th>\n",
       "      <td>91C3969B8A72B908</td>\n",
       "      <td>B</td>\n",
       "      <td>2020-12-09</td>\n",
       "      <td>EU</td>\n",
       "      <td>Android</td>\n",
       "    </tr>\n",
       "    <tr>\n",
       "      <th>6348</th>\n",
       "      <td>E26F13A65CEAC6EA</td>\n",
       "      <td>A</td>\n",
       "      <td>2020-12-17</td>\n",
       "      <td>EU</td>\n",
       "      <td>Mac</td>\n",
       "    </tr>\n",
       "    <tr>\n",
       "      <th>6349</th>\n",
       "      <td>95401934D6D6D4FC</td>\n",
       "      <td>B</td>\n",
       "      <td>2020-12-13</td>\n",
       "      <td>EU</td>\n",
       "      <td>iPhone</td>\n",
       "    </tr>\n",
       "    <tr>\n",
       "      <th>6350</th>\n",
       "      <td>80712ED4EA1B52A5</td>\n",
       "      <td>A</td>\n",
       "      <td>2020-12-14</td>\n",
       "      <td>EU</td>\n",
       "      <td>Android</td>\n",
       "    </tr>\n",
       "  </tbody>\n",
       "</table>\n",
       "<p>6351 rows × 5 columns</p>\n",
       "</div>"
      ],
      "text/plain": [
       "               user_id group first_date region   device\n",
       "0     D1ABA3E2887B6A73     A 2020-12-07     EU       PC\n",
       "1     A7A3664BD6242119     A 2020-12-20     EU   iPhone\n",
       "2     DABC14FDDFADD29E     A 2020-12-08     EU      Mac\n",
       "3     04988C5DF189632E     A 2020-12-14     EU   iPhone\n",
       "4     482F14783456D21B     B 2020-12-14     EU       PC\n",
       "...                ...   ...        ...    ...      ...\n",
       "6346  7C5C12FA1B5AB710     A 2020-12-21     EU  Android\n",
       "6347  91C3969B8A72B908     B 2020-12-09     EU  Android\n",
       "6348  E26F13A65CEAC6EA     A 2020-12-17     EU      Mac\n",
       "6349  95401934D6D6D4FC     B 2020-12-13     EU   iPhone\n",
       "6350  80712ED4EA1B52A5     A 2020-12-14     EU  Android\n",
       "\n",
       "[6351 rows x 5 columns]"
      ]
     },
     "execution_count": 42,
     "metadata": {},
     "output_type": "execute_result"
    }
   ],
   "source": [
    "rec_final_ab_participants = rec_final_ab_participants.query(\"region == 'EU'\")\n",
    "rec_final_ab_participants"
   ]
  },
  {
   "cell_type": "markdown",
   "metadata": {},
   "source": [
    "**У нас 6351 уникальных пользователей в двух группах, создадим объединенный датафрейм с событиями:**"
   ]
  },
  {
   "cell_type": "code",
   "execution_count": 43,
   "metadata": {},
   "outputs": [],
   "source": [
    "rec_final_ab_participants = rec_final_ab_participants.merge(final_ab_events,how='left')"
   ]
  },
  {
   "cell_type": "code",
   "execution_count": 44,
   "metadata": {},
   "outputs": [
    {
     "data": {
      "text/plain": [
       "2870"
      ]
     },
     "execution_count": 44,
     "metadata": {},
     "output_type": "execute_result"
    }
   ],
   "source": [
    "#посчитаем кол-во уникальных пользователей, не совершивших ни одного события\n",
    "rec_final_ab_participants.query('event_dt.isna()')['user_id'].nunique()"
   ]
  },
  {
   "cell_type": "markdown",
   "metadata": {},
   "source": [
    "Соответственно, **2870 участников теста не совершили ни одного события**. Однако поскольку наш тест проверяет изменения от рекомендательной системы, нам не интересны пользователи, которые не совершили ни одного действия, они просто никак не могли \"дойти\" до самого тестируемого изменения, поэтому таких пользователей необходимо убрать. \n",
    "\n",
    "Тем не менее, стоит проверить, **какую долю пользователей каждой из групп мы таким образом убираем**:"
   ]
  },
  {
   "cell_type": "code",
   "execution_count": 45,
   "metadata": {},
   "outputs": [
    {
     "data": {
      "text/html": [
       "<div>\n",
       "<style scoped>\n",
       "    .dataframe tbody tr th:only-of-type {\n",
       "        vertical-align: middle;\n",
       "    }\n",
       "\n",
       "    .dataframe tbody tr th {\n",
       "        vertical-align: top;\n",
       "    }\n",
       "\n",
       "    .dataframe thead th {\n",
       "        text-align: right;\n",
       "    }\n",
       "</style>\n",
       "<table border=\"1\" class=\"dataframe\">\n",
       "  <thead>\n",
       "    <tr style=\"text-align: right;\">\n",
       "      <th></th>\n",
       "      <th>group</th>\n",
       "      <th>count</th>\n",
       "      <th>share</th>\n",
       "    </tr>\n",
       "  </thead>\n",
       "  <tbody>\n",
       "    <tr>\n",
       "      <th>0</th>\n",
       "      <td>A</td>\n",
       "      <td>1030</td>\n",
       "      <td>0.283434</td>\n",
       "    </tr>\n",
       "    <tr>\n",
       "      <th>1</th>\n",
       "      <td>B</td>\n",
       "      <td>1840</td>\n",
       "      <td>0.677218</td>\n",
       "    </tr>\n",
       "  </tbody>\n",
       "</table>\n",
       "</div>"
      ],
      "text/plain": [
       "  group  count     share\n",
       "0     A   1030  0.283434\n",
       "1     B   1840  0.677218"
      ]
     },
     "execution_count": 45,
     "metadata": {},
     "output_type": "execute_result"
    }
   ],
   "source": [
    "temp_table = rec_final_ab_participants.query('event_dt.isna()').groupby('group',as_index=False).agg(count=('user_id','count'))\n",
    "\n",
    "temp_table['share'] = [temp_table['count'][0]/rec_final_ab_participants.query(\"group == 'A'\")['user_id'].nunique(),\n",
    "                       temp_table['count'][1]/rec_final_ab_participants.query(\"group == 'B'\")['user_id'].nunique()]\n",
    "\n",
    "temp_table"
   ]
  },
  {
   "cell_type": "markdown",
   "metadata": {},
   "source": [
    "Получается, **мы потеряли почти 68% пользователей из группы В**, необходимо проверить, скорее всего здесь была какая-то техническая ошибка в записи данных или сбой в приложении для пользователей, которым внедрили новую рекомендательную систему. \n",
    "\n",
    "За счет этого мы потеряли большое количество пользователей из тестовой группы и распределение между двумя группами стало еще более неравномерным."
   ]
  },
  {
   "cell_type": "code",
   "execution_count": 46,
   "metadata": {},
   "outputs": [
    {
     "data": {
      "text/plain": [
       "3481"
      ]
     },
     "execution_count": 46,
     "metadata": {},
     "output_type": "execute_result"
    }
   ],
   "source": [
    "#обновим рабочий датафрейм, убрав пользователей без дей-ий\n",
    "rec_final_ab = rec_final_ab_participants.query('~event_dt.isna()')\n",
    "\n",
    "#сколько уникальных пользователей осталось?\n",
    "rec_final_ab['user_id'].nunique()"
   ]
  },
  {
   "cell_type": "markdown",
   "metadata": {},
   "source": [
    "У нас остается 3481 участник."
   ]
  },
  {
   "cell_type": "markdown",
   "metadata": {},
   "source": [
    "**После проверки пересечения и удаления других регионов, а также удаления пользователей, не совершивших действия, у нас остается 3481 пользователь — то есть ТЗ нарушается.** Однако такая большая аудитория теста нам может и не понадобится, с помощью калькулятора в дальнейшем мы проверим, какой минимальный размер выборок в двух группах позволит провести достоверный тест."
   ]
  },
  {
   "cell_type": "markdown",
   "metadata": {},
   "source": [
    "### Проверим равномерность распределения по тестовым группам и правильность их формирования:"
   ]
  },
  {
   "cell_type": "code",
   "execution_count": 47,
   "metadata": {
    "scrolled": true
   },
   "outputs": [
    {
     "data": {
      "text/html": [
       "<div>\n",
       "<style scoped>\n",
       "    .dataframe tbody tr th:only-of-type {\n",
       "        vertical-align: middle;\n",
       "    }\n",
       "\n",
       "    .dataframe tbody tr th {\n",
       "        vertical-align: top;\n",
       "    }\n",
       "\n",
       "    .dataframe thead th {\n",
       "        text-align: right;\n",
       "    }\n",
       "</style>\n",
       "<table border=\"1\" class=\"dataframe\">\n",
       "  <thead>\n",
       "    <tr style=\"text-align: right;\">\n",
       "      <th></th>\n",
       "      <th>group</th>\n",
       "      <th>count</th>\n",
       "    </tr>\n",
       "  </thead>\n",
       "  <tbody>\n",
       "    <tr>\n",
       "      <th>0</th>\n",
       "      <td>A</td>\n",
       "      <td>2604</td>\n",
       "    </tr>\n",
       "    <tr>\n",
       "      <th>1</th>\n",
       "      <td>B</td>\n",
       "      <td>877</td>\n",
       "    </tr>\n",
       "  </tbody>\n",
       "</table>\n",
       "</div>"
      ],
      "text/plain": [
       "  group  count\n",
       "0     A   2604\n",
       "1     B    877"
      ]
     },
     "execution_count": 47,
     "metadata": {},
     "output_type": "execute_result"
    }
   ],
   "source": [
    "rec_final_ab.groupby('group',as_index=False).agg(count=('user_id','nunique'))"
   ]
  },
  {
   "cell_type": "markdown",
   "metadata": {},
   "source": [
    "Разница видна невообруженным взглядом, но проверим также **z-тестом на пропорции**.\n",
    "\n",
    "- Н0: Значимой разницы между долями нет\n",
    "- Н1: Значимая разница между долями есть"
   ]
  },
  {
   "cell_type": "code",
   "execution_count": 48,
   "metadata": {},
   "outputs": [
    {
     "name": "stdout",
     "output_type": "stream",
     "text": [
      "Уровень значимости: 0.000\n",
      "Отвергаем нулевую гипотезу о равенстве долей\n"
     ]
    }
   ],
   "source": [
    "alpha = 0.05\n",
    "count = np.array([rec_final_ab.groupby('group',as_index=False).agg(count=('user_id','nunique'))['count'][0],\n",
    "                  rec_final_ab.groupby('group',as_index=False).agg(count=('user_id','nunique'))['count'][1]])\n",
    "nobs = np.array([rec_final_ab.groupby('group',as_index=False).agg(count=('user_id','nunique'))['count'].sum()\n",
    "                     , rec_final_ab.groupby('group',as_index=False).agg(count=('user_id','nunique'))['count'].sum()\n",
    "                     ])\n",
    "stat, pval = proportions_ztest(count, nobs)\n",
    "print('Уровень значимости: {0:0.3f}'.format(pval))\n",
    "if pval<alpha:\n",
    "    print('Отвергаем нулевую гипотезу о равенстве долей')\n",
    "else:\n",
    "    print('Не удалось отвергнуть нулевую гипотезу о равенстве долей')"
   ]
  },
  {
   "cell_type": "markdown",
   "metadata": {},
   "source": [
    "Мы видим, что группы распределены не равномерно, группа А почти в три раза больше группы В, разница в пропорциях статистически также подтверждена. Отсюда делаем вывод, что любые дальнейшие сравнения нужно проводить в относительных кол-вах (смотреть на равенство долей с помощью z-теста). \n",
    "\n",
    "Ранее мы уже проверяли, что не было пользователей, которые попали одновременно в две группы нашего теста, соответственно группы были сформированы корректно с этой точки зрения. Однако несбалансированные выборки — это признак нарушения качества проведения теста. Причем, как мы выяснили, большая часть пользователей тестовой группы не совершала событий — здесь мог быть технический лаг."
   ]
  },
  {
   "cell_type": "markdown",
   "metadata": {},
   "source": [
    "**5) ожидаемый эффект: за 14 дней с момента регистрации пользователи покажут улучшение каждой метрики не менее, чем на 10%**"
   ]
  },
  {
   "cell_type": "markdown",
   "metadata": {},
   "source": [
    "Мы сможем проверить выполнение этого пункта ТЗ в конце исследования. Однако на текущем этапе необходимо будет проверить соответствие событий указанному лайфтайму и корректность воронки событий. \n",
    "\n",
    "Уберем события, которые были совершены вне лайфтайма пользователя (14 дней со дня регистрации)"
   ]
  },
  {
   "cell_type": "code",
   "execution_count": 49,
   "metadata": {},
   "outputs": [],
   "source": [
    "rec_final_ab = rec_final_ab.loc[(rec_final_ab['first_date'] + dt.timedelta(days=13)) >= rec_final_ab['event_dt']]\n",
    "\n",
    "#уберем столбец с деталями, поскольку он не пригодится в нашем исследовании\n",
    "rec_final_ab = rec_final_ab.drop('details',axis=1)"
   ]
  },
  {
   "cell_type": "markdown",
   "metadata": {},
   "source": [
    "Поскольку, согласно ТЗ, мы тестируем изменения, связанные именно с рекомендательной системой, нам не интересен для анализа конверсия переходов от регистраций до логина, поскольку нам в принципе не интересно событие login. Чтобы рекомендательная система могла повлиять на поведение пользователя, он должен априори зайти в приложение, до этого момента на него могут влиять другие факторы, но только не рекомендательная система.\n",
    "\n",
    "**Поэтому воронку пользователя для нашего теста мы сформируем следующим образом**:\n",
    "\n",
    "- логин (оставляем для подсчета конверсии в просмотры карточек)\n",
    "- просмотр карточек товаров — событие product_page \n",
    "- просмотры корзины — product_cart \n",
    "- покупка — purchase "
   ]
  },
  {
   "cell_type": "code",
   "execution_count": 50,
   "metadata": {},
   "outputs": [
    {
     "data": {
      "text/html": [
       "<div>\n",
       "<style scoped>\n",
       "    .dataframe tbody tr th:only-of-type {\n",
       "        vertical-align: middle;\n",
       "    }\n",
       "\n",
       "    .dataframe tbody tr th {\n",
       "        vertical-align: top;\n",
       "    }\n",
       "\n",
       "    .dataframe thead th {\n",
       "        text-align: right;\n",
       "    }\n",
       "</style>\n",
       "<table border=\"1\" class=\"dataframe\">\n",
       "  <thead>\n",
       "    <tr style=\"text-align: right;\">\n",
       "      <th>group</th>\n",
       "      <th>event_name</th>\n",
       "      <th>A</th>\n",
       "      <th>B</th>\n",
       "    </tr>\n",
       "  </thead>\n",
       "  <tbody>\n",
       "    <tr>\n",
       "      <th>0</th>\n",
       "      <td>login</td>\n",
       "      <td>7819</td>\n",
       "      <td>2285</td>\n",
       "    </tr>\n",
       "    <tr>\n",
       "      <th>1</th>\n",
       "      <td>product_page</td>\n",
       "      <td>5027</td>\n",
       "      <td>1226</td>\n",
       "    </tr>\n",
       "    <tr>\n",
       "      <th>2</th>\n",
       "      <td>product_cart</td>\n",
       "      <td>2332</td>\n",
       "      <td>614</td>\n",
       "    </tr>\n",
       "    <tr>\n",
       "      <th>3</th>\n",
       "      <td>purchase</td>\n",
       "      <td>2463</td>\n",
       "      <td>611</td>\n",
       "    </tr>\n",
       "  </tbody>\n",
       "</table>\n",
       "</div>"
      ],
      "text/plain": [
       "group    event_name     A     B\n",
       "0             login  7819  2285\n",
       "1      product_page  5027  1226\n",
       "2      product_cart  2332   614\n",
       "3          purchase  2463   611"
      ]
     },
     "execution_count": 50,
     "metadata": {},
     "output_type": "execute_result"
    }
   ],
   "source": [
    "#посмотрим на предварительный общий подсчет воронки по кол-ву совершенных событий\n",
    "rec_final_ab.pivot_table(index='event_name', columns='group', values='user_id', aggfunc='count')\\\n",
    "             .sort_values(by='B',ascending=False).reset_index()"
   ]
  },
  {
   "cell_type": "code",
   "execution_count": 51,
   "metadata": {},
   "outputs": [
    {
     "data": {
      "text/html": [
       "<div>\n",
       "<style scoped>\n",
       "    .dataframe tbody tr th:only-of-type {\n",
       "        vertical-align: middle;\n",
       "    }\n",
       "\n",
       "    .dataframe tbody tr th {\n",
       "        vertical-align: top;\n",
       "    }\n",
       "\n",
       "    .dataframe thead th {\n",
       "        text-align: right;\n",
       "    }\n",
       "</style>\n",
       "<table border=\"1\" class=\"dataframe\">\n",
       "  <thead>\n",
       "    <tr style=\"text-align: right;\">\n",
       "      <th></th>\n",
       "      <th>user_id</th>\n",
       "      <th>event_name</th>\n",
       "      <th>count</th>\n",
       "    </tr>\n",
       "  </thead>\n",
       "  <tbody>\n",
       "    <tr>\n",
       "      <th>6410</th>\n",
       "      <td>D182471A77C0DC13</td>\n",
       "      <td>product_page</td>\n",
       "      <td>7</td>\n",
       "    </tr>\n",
       "    <tr>\n",
       "      <th>5035</th>\n",
       "      <td>A7A055BA12053CBA</td>\n",
       "      <td>product_page</td>\n",
       "      <td>7</td>\n",
       "    </tr>\n",
       "    <tr>\n",
       "      <th>498</th>\n",
       "      <td>115EBC1CA027854A</td>\n",
       "      <td>product_page</td>\n",
       "      <td>7</td>\n",
       "    </tr>\n",
       "    <tr>\n",
       "      <th>497</th>\n",
       "      <td>115EBC1CA027854A</td>\n",
       "      <td>product_cart</td>\n",
       "      <td>7</td>\n",
       "    </tr>\n",
       "    <tr>\n",
       "      <th>496</th>\n",
       "      <td>115EBC1CA027854A</td>\n",
       "      <td>login</td>\n",
       "      <td>7</td>\n",
       "    </tr>\n",
       "    <tr>\n",
       "      <th>...</th>\n",
       "      <td>...</td>\n",
       "      <td>...</td>\n",
       "      <td>...</td>\n",
       "    </tr>\n",
       "    <tr>\n",
       "      <th>6117</th>\n",
       "      <td>C76AB3B4FB0A87B6</td>\n",
       "      <td>login</td>\n",
       "      <td>1</td>\n",
       "    </tr>\n",
       "    <tr>\n",
       "      <th>7020</th>\n",
       "      <td>E6AAFF21D051CC65</td>\n",
       "      <td>login</td>\n",
       "      <td>1</td>\n",
       "    </tr>\n",
       "    <tr>\n",
       "      <th>2792</th>\n",
       "      <td>5C85C417F02FEDCF</td>\n",
       "      <td>login</td>\n",
       "      <td>1</td>\n",
       "    </tr>\n",
       "    <tr>\n",
       "      <th>2793</th>\n",
       "      <td>5C85C417F02FEDCF</td>\n",
       "      <td>product_page</td>\n",
       "      <td>1</td>\n",
       "    </tr>\n",
       "    <tr>\n",
       "      <th>1688</th>\n",
       "      <td>37A0A1F3FB2F01F4</td>\n",
       "      <td>product_page</td>\n",
       "      <td>1</td>\n",
       "    </tr>\n",
       "  </tbody>\n",
       "</table>\n",
       "<p>7766 rows × 3 columns</p>\n",
       "</div>"
      ],
      "text/plain": [
       "               user_id    event_name  count\n",
       "6410  D182471A77C0DC13  product_page      7\n",
       "5035  A7A055BA12053CBA  product_page      7\n",
       "498   115EBC1CA027854A  product_page      7\n",
       "497   115EBC1CA027854A  product_cart      7\n",
       "496   115EBC1CA027854A         login      7\n",
       "...                ...           ...    ...\n",
       "6117  C76AB3B4FB0A87B6         login      1\n",
       "7020  E6AAFF21D051CC65         login      1\n",
       "2792  5C85C417F02FEDCF         login      1\n",
       "2793  5C85C417F02FEDCF  product_page      1\n",
       "1688  37A0A1F3FB2F01F4  product_page      1\n",
       "\n",
       "[7766 rows x 3 columns]"
      ]
     },
     "execution_count": 51,
     "metadata": {},
     "output_type": "execute_result"
    }
   ],
   "source": [
    "#подсчет кол-ва разных событий на пользователя\n",
    "rec_final_ab.groupby(['user_id','event_name'],as_index=False).agg(count=('user_id','count')).sort_values(by='count',ascending=False)"
   ]
  },
  {
   "cell_type": "code",
   "execution_count": 52,
   "metadata": {},
   "outputs": [
    {
     "data": {
      "text/html": [
       "<div>\n",
       "<style scoped>\n",
       "    .dataframe tbody tr th:only-of-type {\n",
       "        vertical-align: middle;\n",
       "    }\n",
       "\n",
       "    .dataframe tbody tr th {\n",
       "        vertical-align: top;\n",
       "    }\n",
       "\n",
       "    .dataframe thead th {\n",
       "        text-align: right;\n",
       "    }\n",
       "</style>\n",
       "<table border=\"1\" class=\"dataframe\">\n",
       "  <thead>\n",
       "    <tr style=\"text-align: right;\">\n",
       "      <th>group</th>\n",
       "      <th>event_name</th>\n",
       "      <th>A</th>\n",
       "      <th>B</th>\n",
       "    </tr>\n",
       "  </thead>\n",
       "  <tbody>\n",
       "    <tr>\n",
       "      <th>0</th>\n",
       "      <td>login</td>\n",
       "      <td>2604</td>\n",
       "      <td>876</td>\n",
       "    </tr>\n",
       "    <tr>\n",
       "      <th>1</th>\n",
       "      <td>product_page</td>\n",
       "      <td>1685</td>\n",
       "      <td>493</td>\n",
       "    </tr>\n",
       "    <tr>\n",
       "      <th>2</th>\n",
       "      <td>product_cart</td>\n",
       "      <td>782</td>\n",
       "      <td>244</td>\n",
       "    </tr>\n",
       "    <tr>\n",
       "      <th>3</th>\n",
       "      <td>purchase</td>\n",
       "      <td>833</td>\n",
       "      <td>249</td>\n",
       "    </tr>\n",
       "  </tbody>\n",
       "</table>\n",
       "</div>"
      ],
      "text/plain": [
       "group    event_name     A    B\n",
       "0             login  2604  876\n",
       "1      product_page  1685  493\n",
       "2      product_cart   782  244\n",
       "3          purchase   833  249"
      ]
     },
     "execution_count": 52,
     "metadata": {},
     "output_type": "execute_result"
    }
   ],
   "source": [
    "#посмотрим на предварительный общий подсчет воронки по уникам (по ТЗ нам нужно именно улучшение пользователей)\n",
    "ab_funnel = rec_final_ab.pivot_table(index='event_name', columns='group', values='user_id', aggfunc='nunique')\\\n",
    "             .sort_values(by='B',ascending=False).reset_index()\n",
    "\n",
    "#установим нужный порядок событий в воронке\n",
    "ab_funnel = ab_funnel.reindex([0,1,3,2]).reset_index(drop=True)\n",
    "ab_funnel"
   ]
  },
  {
   "cell_type": "markdown",
   "metadata": {},
   "source": [
    "С помощью предварительного анализа мы увидели, что:\n",
    "\n",
    "- один пользователь мог совершать несколько одинаковых действий (самое большое кол-во 7)\n",
    "- купить продукты можно было без перехода в корзину, напрямую после просмотра карточки\n",
    "\n",
    "**Сформируем воронку с конверсией от первого шага (логин) и конверсию перехода от одного шага в другой:**"
   ]
  },
  {
   "cell_type": "code",
   "execution_count": 53,
   "metadata": {},
   "outputs": [],
   "source": [
    "ab_funnel['conv_rate_a'] = round(ab_funnel[\"A\"] / ab_funnel[\"A\"][0],3)\n",
    "ab_funnel['conv_rate_b'] = round(ab_funnel[\"B\"] / ab_funnel[\"B\"][0],3)"
   ]
  },
  {
   "cell_type": "code",
   "execution_count": 54,
   "metadata": {},
   "outputs": [
    {
     "data": {
      "text/html": [
       "<div>\n",
       "<style scoped>\n",
       "    .dataframe tbody tr th:only-of-type {\n",
       "        vertical-align: middle;\n",
       "    }\n",
       "\n",
       "    .dataframe tbody tr th {\n",
       "        vertical-align: top;\n",
       "    }\n",
       "\n",
       "    .dataframe thead th {\n",
       "        text-align: right;\n",
       "    }\n",
       "</style>\n",
       "<table border=\"1\" class=\"dataframe\">\n",
       "  <thead>\n",
       "    <tr style=\"text-align: right;\">\n",
       "      <th>group</th>\n",
       "      <th>event_name</th>\n",
       "      <th>A</th>\n",
       "      <th>B</th>\n",
       "      <th>conv_rate_a</th>\n",
       "      <th>conv_rate_b</th>\n",
       "      <th>a_conv_per_step</th>\n",
       "      <th>b_conv_per_step</th>\n",
       "    </tr>\n",
       "  </thead>\n",
       "  <tbody>\n",
       "    <tr>\n",
       "      <th>0</th>\n",
       "      <td>login</td>\n",
       "      <td>2604</td>\n",
       "      <td>876</td>\n",
       "      <td>1.000</td>\n",
       "      <td>1.000</td>\n",
       "      <td>1.000</td>\n",
       "      <td>1.000</td>\n",
       "    </tr>\n",
       "    <tr>\n",
       "      <th>1</th>\n",
       "      <td>product_page</td>\n",
       "      <td>1685</td>\n",
       "      <td>493</td>\n",
       "      <td>0.647</td>\n",
       "      <td>0.563</td>\n",
       "      <td>0.647</td>\n",
       "      <td>0.563</td>\n",
       "    </tr>\n",
       "    <tr>\n",
       "      <th>2</th>\n",
       "      <td>product_cart</td>\n",
       "      <td>782</td>\n",
       "      <td>244</td>\n",
       "      <td>0.300</td>\n",
       "      <td>0.279</td>\n",
       "      <td>0.464</td>\n",
       "      <td>0.495</td>\n",
       "    </tr>\n",
       "    <tr>\n",
       "      <th>3</th>\n",
       "      <td>purchase</td>\n",
       "      <td>833</td>\n",
       "      <td>249</td>\n",
       "      <td>0.320</td>\n",
       "      <td>0.284</td>\n",
       "      <td>1.065</td>\n",
       "      <td>1.020</td>\n",
       "    </tr>\n",
       "  </tbody>\n",
       "</table>\n",
       "</div>"
      ],
      "text/plain": [
       "group    event_name     A    B  conv_rate_a  conv_rate_b  a_conv_per_step  \\\n",
       "0             login  2604  876        1.000        1.000            1.000   \n",
       "1      product_page  1685  493        0.647        0.563            0.647   \n",
       "2      product_cart   782  244        0.300        0.279            0.464   \n",
       "3          purchase   833  249        0.320        0.284            1.065   \n",
       "\n",
       "group  b_conv_per_step  \n",
       "0                1.000  \n",
       "1                0.563  \n",
       "2                0.495  \n",
       "3                1.020  "
      ]
     },
     "execution_count": 54,
     "metadata": {},
     "output_type": "execute_result"
    }
   ],
   "source": [
    "ab_funnel = ab_funnel.assign(a_conv_per_step= lambda x:\n",
    "                             (round(x['A'] / x['A'].shift(),3)).fillna(1))\n",
    "ab_funnel = ab_funnel.assign(b_conv_per_step= lambda x:\n",
    "                             (round(x['B'] / x['B'].shift(),3)).fillna(1))\n",
    "\n",
    "ab_funnel"
   ]
  },
  {
   "cell_type": "markdown",
   "metadata": {},
   "source": [
    "Возьмем самый высокий уровень базовой конверсии (в контрольной группе), с помощью калькулятора размера выборки мы определили, что нам достаточно 366 пользователей в выборке, чтобы корректно провести тест и отследить изменения в 10%.\n",
    "\n",
    "Получается, несмотря на несоответствие пункту ТЗ про аудиторию, с такими тестовыми группами мы можем проводить тест."
   ]
  },
  {
   "cell_type": "markdown",
   "metadata": {},
   "source": [
    "### Проанализируем время проведения теста (что на тест не повлияли маркетинговые и другие активности)"
   ]
  },
  {
   "cell_type": "code",
   "execution_count": 55,
   "metadata": {
    "scrolled": true
   },
   "outputs": [
    {
     "data": {
      "text/html": [
       "<div>\n",
       "<style scoped>\n",
       "    .dataframe tbody tr th:only-of-type {\n",
       "        vertical-align: middle;\n",
       "    }\n",
       "\n",
       "    .dataframe tbody tr th {\n",
       "        vertical-align: top;\n",
       "    }\n",
       "\n",
       "    .dataframe thead th {\n",
       "        text-align: right;\n",
       "    }\n",
       "</style>\n",
       "<table border=\"1\" class=\"dataframe\">\n",
       "  <thead>\n",
       "    <tr style=\"text-align: right;\">\n",
       "      <th></th>\n",
       "      <th>name</th>\n",
       "      <th>regions</th>\n",
       "      <th>start_dt</th>\n",
       "      <th>finish_dt</th>\n",
       "    </tr>\n",
       "  </thead>\n",
       "  <tbody>\n",
       "    <tr>\n",
       "      <th>0</th>\n",
       "      <td>Christmas&amp;New Year Promo</td>\n",
       "      <td>EU, N.America</td>\n",
       "      <td>2020-12-25</td>\n",
       "      <td>2021-01-03</td>\n",
       "    </tr>\n",
       "    <tr>\n",
       "      <th>1</th>\n",
       "      <td>St. Valentine's Day Giveaway</td>\n",
       "      <td>EU, CIS, APAC, N.America</td>\n",
       "      <td>2020-02-14</td>\n",
       "      <td>2020-02-16</td>\n",
       "    </tr>\n",
       "    <tr>\n",
       "      <th>2</th>\n",
       "      <td>St. Patric's Day Promo</td>\n",
       "      <td>EU, N.America</td>\n",
       "      <td>2020-03-17</td>\n",
       "      <td>2020-03-19</td>\n",
       "    </tr>\n",
       "    <tr>\n",
       "      <th>3</th>\n",
       "      <td>Easter Promo</td>\n",
       "      <td>EU, CIS, APAC, N.America</td>\n",
       "      <td>2020-04-12</td>\n",
       "      <td>2020-04-19</td>\n",
       "    </tr>\n",
       "    <tr>\n",
       "      <th>4</th>\n",
       "      <td>4th of July Promo</td>\n",
       "      <td>N.America</td>\n",
       "      <td>2020-07-04</td>\n",
       "      <td>2020-07-11</td>\n",
       "    </tr>\n",
       "    <tr>\n",
       "      <th>5</th>\n",
       "      <td>Black Friday Ads Campaign</td>\n",
       "      <td>EU, CIS, APAC, N.America</td>\n",
       "      <td>2020-11-26</td>\n",
       "      <td>2020-12-01</td>\n",
       "    </tr>\n",
       "    <tr>\n",
       "      <th>6</th>\n",
       "      <td>Chinese New Year Promo</td>\n",
       "      <td>APAC</td>\n",
       "      <td>2020-01-25</td>\n",
       "      <td>2020-02-07</td>\n",
       "    </tr>\n",
       "    <tr>\n",
       "      <th>7</th>\n",
       "      <td>Labor day (May 1st) Ads Campaign</td>\n",
       "      <td>EU, CIS, APAC</td>\n",
       "      <td>2020-05-01</td>\n",
       "      <td>2020-05-03</td>\n",
       "    </tr>\n",
       "    <tr>\n",
       "      <th>8</th>\n",
       "      <td>International Women's Day Promo</td>\n",
       "      <td>EU, CIS, APAC</td>\n",
       "      <td>2020-03-08</td>\n",
       "      <td>2020-03-10</td>\n",
       "    </tr>\n",
       "    <tr>\n",
       "      <th>9</th>\n",
       "      <td>Victory Day CIS (May 9th) Event</td>\n",
       "      <td>CIS</td>\n",
       "      <td>2020-05-09</td>\n",
       "      <td>2020-05-11</td>\n",
       "    </tr>\n",
       "    <tr>\n",
       "      <th>10</th>\n",
       "      <td>CIS New Year Gift Lottery</td>\n",
       "      <td>CIS</td>\n",
       "      <td>2020-12-30</td>\n",
       "      <td>2021-01-07</td>\n",
       "    </tr>\n",
       "    <tr>\n",
       "      <th>11</th>\n",
       "      <td>Dragon Boat Festival Giveaway</td>\n",
       "      <td>APAC</td>\n",
       "      <td>2020-06-25</td>\n",
       "      <td>2020-07-01</td>\n",
       "    </tr>\n",
       "    <tr>\n",
       "      <th>12</th>\n",
       "      <td>Single's Day Gift Promo</td>\n",
       "      <td>APAC</td>\n",
       "      <td>2020-11-11</td>\n",
       "      <td>2020-11-12</td>\n",
       "    </tr>\n",
       "    <tr>\n",
       "      <th>13</th>\n",
       "      <td>Chinese Moon Festival</td>\n",
       "      <td>APAC</td>\n",
       "      <td>2020-10-01</td>\n",
       "      <td>2020-10-07</td>\n",
       "    </tr>\n",
       "  </tbody>\n",
       "</table>\n",
       "</div>"
      ],
      "text/plain": [
       "                                name                   regions   start_dt  \\\n",
       "0           Christmas&New Year Promo             EU, N.America 2020-12-25   \n",
       "1       St. Valentine's Day Giveaway  EU, CIS, APAC, N.America 2020-02-14   \n",
       "2             St. Patric's Day Promo             EU, N.America 2020-03-17   \n",
       "3                       Easter Promo  EU, CIS, APAC, N.America 2020-04-12   \n",
       "4                  4th of July Promo                 N.America 2020-07-04   \n",
       "5          Black Friday Ads Campaign  EU, CIS, APAC, N.America 2020-11-26   \n",
       "6             Chinese New Year Promo                      APAC 2020-01-25   \n",
       "7   Labor day (May 1st) Ads Campaign             EU, CIS, APAC 2020-05-01   \n",
       "8    International Women's Day Promo             EU, CIS, APAC 2020-03-08   \n",
       "9    Victory Day CIS (May 9th) Event                       CIS 2020-05-09   \n",
       "10         CIS New Year Gift Lottery                       CIS 2020-12-30   \n",
       "11     Dragon Boat Festival Giveaway                      APAC 2020-06-25   \n",
       "12           Single's Day Gift Promo                      APAC 2020-11-11   \n",
       "13             Chinese Moon Festival                      APAC 2020-10-01   \n",
       "\n",
       "    finish_dt  \n",
       "0  2021-01-03  \n",
       "1  2020-02-16  \n",
       "2  2020-03-19  \n",
       "3  2020-04-19  \n",
       "4  2020-07-11  \n",
       "5  2020-12-01  \n",
       "6  2020-02-07  \n",
       "7  2020-05-03  \n",
       "8  2020-03-10  \n",
       "9  2020-05-11  \n",
       "10 2021-01-07  \n",
       "11 2020-07-01  \n",
       "12 2020-11-12  \n",
       "13 2020-10-07  "
      ]
     },
     "execution_count": 55,
     "metadata": {},
     "output_type": "execute_result"
    }
   ],
   "source": [
    "#посмотрим на датасет с событиями\n",
    "ab_project_marketing_events"
   ]
  },
  {
   "cell_type": "markdown",
   "metadata": {},
   "source": [
    "Так как нам интересны только события, проходящие в Европе, сделаем срез активностей по региону:"
   ]
  },
  {
   "cell_type": "code",
   "execution_count": 56,
   "metadata": {},
   "outputs": [
    {
     "data": {
      "text/html": [
       "<div>\n",
       "<style scoped>\n",
       "    .dataframe tbody tr th:only-of-type {\n",
       "        vertical-align: middle;\n",
       "    }\n",
       "\n",
       "    .dataframe tbody tr th {\n",
       "        vertical-align: top;\n",
       "    }\n",
       "\n",
       "    .dataframe thead th {\n",
       "        text-align: right;\n",
       "    }\n",
       "</style>\n",
       "<table border=\"1\" class=\"dataframe\">\n",
       "  <thead>\n",
       "    <tr style=\"text-align: right;\">\n",
       "      <th></th>\n",
       "      <th>name</th>\n",
       "      <th>regions</th>\n",
       "      <th>start_dt</th>\n",
       "      <th>finish_dt</th>\n",
       "    </tr>\n",
       "  </thead>\n",
       "  <tbody>\n",
       "    <tr>\n",
       "      <th>0</th>\n",
       "      <td>Christmas&amp;New Year Promo</td>\n",
       "      <td>EU, N.America</td>\n",
       "      <td>2020-12-25</td>\n",
       "      <td>2021-01-03</td>\n",
       "    </tr>\n",
       "    <tr>\n",
       "      <th>1</th>\n",
       "      <td>St. Valentine's Day Giveaway</td>\n",
       "      <td>EU, CIS, APAC, N.America</td>\n",
       "      <td>2020-02-14</td>\n",
       "      <td>2020-02-16</td>\n",
       "    </tr>\n",
       "    <tr>\n",
       "      <th>2</th>\n",
       "      <td>St. Patric's Day Promo</td>\n",
       "      <td>EU, N.America</td>\n",
       "      <td>2020-03-17</td>\n",
       "      <td>2020-03-19</td>\n",
       "    </tr>\n",
       "    <tr>\n",
       "      <th>3</th>\n",
       "      <td>Easter Promo</td>\n",
       "      <td>EU, CIS, APAC, N.America</td>\n",
       "      <td>2020-04-12</td>\n",
       "      <td>2020-04-19</td>\n",
       "    </tr>\n",
       "    <tr>\n",
       "      <th>5</th>\n",
       "      <td>Black Friday Ads Campaign</td>\n",
       "      <td>EU, CIS, APAC, N.America</td>\n",
       "      <td>2020-11-26</td>\n",
       "      <td>2020-12-01</td>\n",
       "    </tr>\n",
       "    <tr>\n",
       "      <th>7</th>\n",
       "      <td>Labor day (May 1st) Ads Campaign</td>\n",
       "      <td>EU, CIS, APAC</td>\n",
       "      <td>2020-05-01</td>\n",
       "      <td>2020-05-03</td>\n",
       "    </tr>\n",
       "    <tr>\n",
       "      <th>8</th>\n",
       "      <td>International Women's Day Promo</td>\n",
       "      <td>EU, CIS, APAC</td>\n",
       "      <td>2020-03-08</td>\n",
       "      <td>2020-03-10</td>\n",
       "    </tr>\n",
       "  </tbody>\n",
       "</table>\n",
       "</div>"
      ],
      "text/plain": [
       "                               name                   regions   start_dt  \\\n",
       "0          Christmas&New Year Promo             EU, N.America 2020-12-25   \n",
       "1      St. Valentine's Day Giveaway  EU, CIS, APAC, N.America 2020-02-14   \n",
       "2            St. Patric's Day Promo             EU, N.America 2020-03-17   \n",
       "3                      Easter Promo  EU, CIS, APAC, N.America 2020-04-12   \n",
       "5         Black Friday Ads Campaign  EU, CIS, APAC, N.America 2020-11-26   \n",
       "7  Labor day (May 1st) Ads Campaign             EU, CIS, APAC 2020-05-01   \n",
       "8   International Women's Day Promo             EU, CIS, APAC 2020-03-08   \n",
       "\n",
       "   finish_dt  \n",
       "0 2021-01-03  \n",
       "1 2020-02-16  \n",
       "2 2020-03-19  \n",
       "3 2020-04-19  \n",
       "5 2020-12-01  \n",
       "7 2020-05-03  \n",
       "8 2020-03-10  "
      ]
     },
     "execution_count": 56,
     "metadata": {},
     "output_type": "execute_result"
    }
   ],
   "source": [
    "eu_marketing = ab_project_marketing_events.query(\"regions.str.contains('EU')\")\n",
    "eu_marketing"
   ]
  },
  {
   "cell_type": "markdown",
   "metadata": {},
   "source": [
    "**Поскольку у нас небольшое количество мероприятий, будет быстрее и эффективнее отследить пересечения с помощью визуализации:**"
   ]
  },
  {
   "cell_type": "code",
   "execution_count": 57,
   "metadata": {
    "scrolled": true
   },
   "outputs": [
    {
     "data": {
      "image/png": "[encoded data removed]",
      "text/plain": [
       "<Figure size 1080x288 with 1 Axes>"
      ]
     },
     "metadata": {
      "needs_background": "light"
     },
     "output_type": "display_data"
    }
   ],
   "source": [
    "y = np.arange(1,15)\n",
    "\n",
    "plt.figure(figsize=(15,4))\n",
    "\n",
    "test_date = pd.to_datetime(['2020-12-07', '2021-01-04'])\n",
    "y__test_list = [15, 15]\n",
    "plot = plt.plot(test_date, y__test_list, label='AB test duration', linewidth = 6.0)\n",
    "\n",
    "for index, x in eu_marketing.iterrows():\n",
    "    \n",
    "    merged_date = [x['start_dt'], x['finish_dt']]\n",
    "    y_list = [y[index], y[index]]\n",
    "    plt.plot(merged_date, y_list, label=x['name'], linewidth = 6.0)\n",
    "\n",
    "plt.axvline(x=test_date[0], color='r', linestyle='--',label='начало и конец теста',linewidth = 1.0)\n",
    "plt.axvline(x=test_date[1], color='r', linestyle='--',linewidth = 1.0)\n",
    "plt.grid()\n",
    "plt.legend(bbox_to_anchor=(1,1), loc=\"upper left\")\n",
    "plt.show()"
   ]
  },
  {
   "cell_type": "markdown",
   "metadata": {},
   "source": [
    "Соответственно, мы видим одно событие, которое могло повлиять на тест: \n",
    "\n",
    "- **Christmas&New Year Promo (Началось во время периода проведения теста, закончилось во время)**\n",
    "\n",
    "Мог повлиять на пользователей, поскольку направлен в том числе и на аудиторию Европы. Необходимо рассмотреть в дальнейшем, были ли в даты проведения маркетинговой активности (25 декабря — 3 января) какие-то изменения, нехарактерный поворот теста. На основе этого можно будет сделать окончательный вывод, поскольку у нас нет данных о том, какие именно пользователи и из каких групп могли видеть активность (равномерно ли они видели в двух группах).\n",
    "\n",
    "Но в качестве рекомендации однозначно вынесем, что следует разводить маркетинговые активности и тестирование новых функций, чтобы избежать внешнего влияния."
   ]
  },
  {
   "cell_type": "markdown",
   "metadata": {},
   "source": [
    "## Исследовательский анализ данных"
   ]
  },
  {
   "cell_type": "markdown",
   "metadata": {},
   "source": [
    "### Количество событий на пользователя одинаково распределены в выборках?"
   ]
  },
  {
   "cell_type": "markdown",
   "metadata": {},
   "source": [
    "Визуализируем распределение:"
   ]
  },
  {
   "cell_type": "code",
   "execution_count": 58,
   "metadata": {},
   "outputs": [],
   "source": [
    "#подготовим таблицу\n",
    "temp_table = rec_final_ab.groupby(['user_id','group'],as_index=False).agg(count=('event_name','count'))"
   ]
  },
  {
   "cell_type": "code",
   "execution_count": 59,
   "metadata": {
    "scrolled": true
   },
   "outputs": [
    {
     "data": {
      "image/png": "[encoded data removed]"
     },
     "metadata": {},
     "output_type": "display_data"
    }
   ],
   "source": [
    "fig = px.histogram(temp_table, \n",
    "                   x='count',\n",
    "                   color='group', \n",
    "                   nbins=25, \n",
    "                   barmode='overlay',\n",
    "                   histnorm='probability density',\n",
    "                   color_discrete_sequence=px.colors.qualitative.Set2\n",
    "                  ) \n",
    "\n",
    "fig.update_layout(title=f'Распределение количества событий на пользователя в зав-ти от группы', \n",
    "                   title_font=dict(size=21))\n",
    "fig.update_xaxes(title_text='Кол-во событий на одного пользователя',title_font=dict(size=16))\n",
    "fig.update_yaxes(title_text='Плотность величины',title_font=dict(size=16))\n",
    "fig.show(renderer='png', width = 1000, scale = None)"
   ]
  },
  {
   "cell_type": "markdown",
   "metadata": {},
   "source": [
    "Количество событий на пользователя распределено в двух выборках не равномерно: в контрольной группе чаще, чем в тестовой, на одного пользователя приходится большее кол-во событий (более 6) и наоборот, в тестовой группе чаще, чем в контрольной встречается меньшее кол-во событий на пользователя (до 6).\n",
    "\n",
    "Самое часто встречающееся кол-во событий на пользователя в контрольной группе — 6, в тестовой — 4 и 6. \n",
    "\n",
    "О чем это может нам говорить? Здесь сложно сказать однозначно, например, это может быть связано с тем, что пользователи меньше думают и возвращаются к действиям (что говорит в пользу новой функции) или же наоборот их ничего не заинтересовывает, потому что рекомендательная система плохо функционирует и они не возвращаются к просмотру товаров и мыслям о покупке.\n",
    "\n",
    "Сказать более точно возможно будет после анализа результатов теста."
   ]
  },
  {
   "cell_type": "markdown",
   "metadata": {},
   "source": [
    "### Как число событий в выборках распределено по дням?"
   ]
  },
  {
   "cell_type": "markdown",
   "metadata": {},
   "source": [
    "Ранее мы уже писали о том, что поскольку выборки распределены неравномерно, сравнивать их в абслютных значениях будет не показательно. Поэтому посмотрим на распределение числа событий по дням в выборках в абсолютной величине и относительной (доля от общего кол-ва событий в группе)."
   ]
  },
  {
   "cell_type": "code",
   "execution_count": 60,
   "metadata": {
    "scrolled": false
   },
   "outputs": [],
   "source": [
    "#подготовим данные\n",
    "temp_table = rec_final_ab\n",
    "temp_table['event_dt'] = pd.to_datetime(temp_table['event_dt']).dt.date\n",
    "\n",
    "num_a = rec_final_ab.query(\"group == 'A'\")['user_id'].nunique()\n",
    "num_b = rec_final_ab.query(\"group == 'B'\")['user_id'].nunique()\n",
    "\n",
    "event_a = rec_final_ab.query(\"group == 'A'\")['event_name'].count()\n",
    "event_b = rec_final_ab.query(\"group == 'B'\")['event_name'].count()\n",
    "\n",
    "temp_table = temp_table.groupby(['event_dt','group'],as_index=False).agg(nun_users=('user_id','nunique'),\n",
    "                                                                         event_count = ('event_name','count'))\n",
    "\n",
    "temp_table.loc[temp_table['group'] == 'A','nun_users'] = temp_table['nun_users']/num_a\n",
    "temp_table.loc[temp_table['group'] == 'B','nun_users'] = temp_table['nun_users']/num_b \n",
    "\n",
    "temp_table['event_share'] = temp_table['event_count']\n",
    "temp_table.loc[temp_table['group'] == 'A','event_share'] = temp_table['event_share']/event_a\n",
    "temp_table.loc[temp_table['group'] == 'B','event_share'] = temp_table['event_share']/event_b "
   ]
  },
  {
   "cell_type": "code",
   "execution_count": 61,
   "metadata": {
    "scrolled": true
   },
   "outputs": [
    {
     "data": {
      "image/png": "[encoded data removed]",
      "text/plain": [
       "<Figure size 1800x432 with 2 Axes>"
      ]
     },
     "metadata": {
      "needs_background": "light"
     },
     "output_type": "display_data"
    }
   ],
   "source": [
    "fig, (ax1, ax2) = plt.subplots(1,ncols = 2,figsize=(25,6))\n",
    "\n",
    "ax1 = sns.barplot(data=temp_table, x='event_dt',y='event_count',hue='group',ax=ax1)\n",
    "ax1.set_title('Распределение числа событий по дням: абсолютное количество')\n",
    "ax1.set_xticklabels(ax1.get_xticklabels(),rotation=45)\n",
    "ax1.set_xlabel('')\n",
    "ax1.set_ylabel('Кол-во событий')\n",
    "\n",
    "ax1 = sns.barplot(data=temp_table, x='event_dt',y='event_share',hue='group',ax=ax2)\n",
    "ax2.set_title('Распределение числа событий по дням: доля от числа событий в группе')\n",
    "ax2.set_xticklabels(ax2.get_xticklabels(),rotation=45)\n",
    "ax2.set_xlabel('')\n",
    "ax1.set_ylabel('Доля событий от общего кол-ва в группе')\n",
    "\n",
    "plt.legend()\n",
    "plt.show()"
   ]
  },
  {
   "cell_type": "markdown",
   "metadata": {},
   "source": [
    "Что можно отметить сразу:\n",
    "\n",
    "- Во-первых, на графике мы видим, что в тесте представлены события **только за период с 7 декабря по 29 декабря**. Ранее мы уже отмечали, что здесь имеет место технический сбой, поскольку пользователи не совершали действий 5 дней. Разумеется, здесь могли повлиять новогодние праздники, однако это больше похоже на сбой. **Необходимо либо ограничить набор в тест за 14 дней до даты последнего события — чтобы у всех пользователей были две недели. Или добавить недостающие данные, если это возможно.**\n",
    "\n",
    "- Во-вторых, маркетинговая активность, с которой было пересечение, судя по графику, **значительно не повлияла** на ход теста (ее начало — 25 декабря). Тем не менее, в будущем необходимо избегать подобных перечений при проведении тестов.\n",
    "\n",
    "Теперь рассмотрим подробно распределение числа событий по дням:\n",
    "\n",
    "- в тестовой группе оно визуально более равномерное, нежели в контрольной. Для группы А мы видим внезапный и довольно **сильный всплеск в районе 14 декабря**. Возникает предположение о каком-либо внешнем влиянии, которое могло спровоцировать такой всплеск (возможно, пиар-компания или акции/розыгрыши, которые не фиксировались в календаре маркетинговых событий). Пик этого подъема в группе А приходится на 20 декабря, затем мы наблюдаем снижение числа совершаемых событий.\n",
    "\n",
    "Здесь необходимо проверить влияние неучтенных внешних факторов. Если таких нет, возможно подобное поведение связано с сезонностью (за две недели до Нового года пользователи стали более активны). Однако этот фактор также негативно сказывается на достоверности проводимого теста. Не стоит проводить тестирование в периоды, где возможно аномальное поведение пользователей (ажиотаж в предпраздничный период и пр.) и влияние большого количества скрытых факторов. \n",
    "\n",
    "- в тестовой группе сначала мы видим значительное лидирование по доле событий в день, однако после 9 декабря начинается небольшой спад, а затем небольшой подъем."
   ]
  },
  {
   "cell_type": "markdown",
   "metadata": {},
   "source": [
    "### Посмотрим дополнительно, как распределились регистрации пользователей, не был ли скачок в группе А связан именно со скачком регистраций?"
   ]
  },
  {
   "cell_type": "code",
   "execution_count": 62,
   "metadata": {},
   "outputs": [],
   "source": [
    "#подготовим данные \n",
    "temp_table = rec_final_ab\n",
    "temp_table['first_date'] = pd.to_datetime(temp_table['first_date']).dt.date\n",
    "temp_table = temp_table.groupby(['first_date','group'],as_index=False).agg(\n",
    "                                                                         reg_count = ('user_id','nunique'))\n",
    "\n",
    "temp_table['reg_share'] = temp_table['reg_count']\n",
    "temp_table.loc[temp_table['group'] == 'A','reg_share'] = temp_table['reg_share']/num_a\n",
    "temp_table.loc[temp_table['group'] == 'B','reg_share'] = temp_table['reg_share']/num_b "
   ]
  },
  {
   "cell_type": "code",
   "execution_count": 63,
   "metadata": {
    "scrolled": true
   },
   "outputs": [
    {
     "data": {
      "image/png": "[encoded data removed]",
      "text/plain": [
       "<Figure size 1800x432 with 2 Axes>"
      ]
     },
     "metadata": {
      "needs_background": "light"
     },
     "output_type": "display_data"
    }
   ],
   "source": [
    "fig, (ax1, ax2) = plt.subplots(1,ncols = 2,figsize=(25,6))\n",
    "\n",
    "ax1 = sns.barplot(data=temp_table, x='first_date',y='reg_count',hue='group',ax=ax1)\n",
    "ax1.set_title('Распределение кол-ва регистраций по дням: абсолютное количество')\n",
    "ax1.set_xticklabels(ax1.get_xticklabels(),rotation=45)\n",
    "ax1.set_xlabel('')\n",
    "ax1.set_ylabel('Кол-во регистраций')\n",
    "\n",
    "ax1 = sns.barplot(data=temp_table, x='first_date',y='reg_share',hue='group',ax=ax2)\n",
    "ax2.set_title('Распределение кол-ва регистраций по дням: доля от общего числа регистраций в группе')\n",
    "ax2.set_xticklabels(ax2.get_xticklabels(),rotation=45)\n",
    "ax2.set_xlabel('')\n",
    "ax1.set_ylabel('Доля от общего числа регистраций в группе')\n",
    "\n",
    "plt.legend()\n",
    "plt.show()"
   ]
  },
  {
   "cell_type": "markdown",
   "metadata": {},
   "source": [
    "Как раз 14 декабря мы видим резкий всплеск регистраций в контрольной группе, также 21 числа кол-во регистраций сильно возрасло, однако это не сильно отразилось на распределении событий. Такое распределение регистраций подтверждает гипотезу о внешнем скрытом влиянии на тест. Необходимо разобраться, что могло спровоцировать такой скачок. Вероятно, тест может быть признан некорректным.\n",
    "\n",
    "В группе В всплеск регистраций наблюдается в первый день набора пользователей. Далее распределение более равномерное, хотя с 14 декабря также есть тренд на повышение кол-ва регистраций."
   ]
  },
  {
   "cell_type": "markdown",
   "metadata": {},
   "source": [
    "### Как меняется конверсия в воронке в выборках на разных этапах?"
   ]
  },
  {
   "cell_type": "markdown",
   "metadata": {},
   "source": [
    "Ранее мы уже подготовили датафрейм с конверсией по отношению к первому шагу и конверсией на каждом этапе. При более детальном изучении данных было обнаружено, что шаг с корзиной не являлся обязательным, соответственно пошаговая конверсия мало что может нам сказать о данных, поскольку вероятно в функциональности приложения есть возможность обходить этот шаг воронки, то есть **воронка не последовательная**."
   ]
  },
  {
   "cell_type": "code",
   "execution_count": 64,
   "metadata": {},
   "outputs": [
    {
     "data": {
      "text/html": [
       "<div>\n",
       "<style scoped>\n",
       "    .dataframe tbody tr th:only-of-type {\n",
       "        vertical-align: middle;\n",
       "    }\n",
       "\n",
       "    .dataframe tbody tr th {\n",
       "        vertical-align: top;\n",
       "    }\n",
       "\n",
       "    .dataframe thead th {\n",
       "        text-align: right;\n",
       "    }\n",
       "</style>\n",
       "<table border=\"1\" class=\"dataframe\">\n",
       "  <thead>\n",
       "    <tr style=\"text-align: right;\">\n",
       "      <th>group</th>\n",
       "      <th>event_name</th>\n",
       "      <th>A</th>\n",
       "      <th>B</th>\n",
       "      <th>conv_rate_a</th>\n",
       "      <th>conv_rate_b</th>\n",
       "      <th>a_conv_per_step</th>\n",
       "      <th>b_conv_per_step</th>\n",
       "    </tr>\n",
       "  </thead>\n",
       "  <tbody>\n",
       "    <tr>\n",
       "      <th>0</th>\n",
       "      <td>login</td>\n",
       "      <td>2604</td>\n",
       "      <td>876</td>\n",
       "      <td>1.000</td>\n",
       "      <td>1.000</td>\n",
       "      <td>1.000</td>\n",
       "      <td>1.000</td>\n",
       "    </tr>\n",
       "    <tr>\n",
       "      <th>1</th>\n",
       "      <td>product_page</td>\n",
       "      <td>1685</td>\n",
       "      <td>493</td>\n",
       "      <td>0.647</td>\n",
       "      <td>0.563</td>\n",
       "      <td>0.647</td>\n",
       "      <td>0.563</td>\n",
       "    </tr>\n",
       "    <tr>\n",
       "      <th>2</th>\n",
       "      <td>product_cart</td>\n",
       "      <td>782</td>\n",
       "      <td>244</td>\n",
       "      <td>0.300</td>\n",
       "      <td>0.279</td>\n",
       "      <td>0.464</td>\n",
       "      <td>0.495</td>\n",
       "    </tr>\n",
       "    <tr>\n",
       "      <th>3</th>\n",
       "      <td>purchase</td>\n",
       "      <td>833</td>\n",
       "      <td>249</td>\n",
       "      <td>0.320</td>\n",
       "      <td>0.284</td>\n",
       "      <td>1.065</td>\n",
       "      <td>1.020</td>\n",
       "    </tr>\n",
       "  </tbody>\n",
       "</table>\n",
       "</div>"
      ],
      "text/plain": [
       "group    event_name     A    B  conv_rate_a  conv_rate_b  a_conv_per_step  \\\n",
       "0             login  2604  876        1.000        1.000            1.000   \n",
       "1      product_page  1685  493        0.647        0.563            0.647   \n",
       "2      product_cart   782  244        0.300        0.279            0.464   \n",
       "3          purchase   833  249        0.320        0.284            1.065   \n",
       "\n",
       "group  b_conv_per_step  \n",
       "0                1.000  \n",
       "1                0.563  \n",
       "2                0.495  \n",
       "3                1.020  "
      ]
     },
     "execution_count": 64,
     "metadata": {},
     "output_type": "execute_result"
    }
   ],
   "source": [
    "ab_funnel"
   ]
  },
  {
   "cell_type": "code",
   "execution_count": 65,
   "metadata": {
    "scrolled": true
   },
   "outputs": [
    {
     "data": {
      "image/png": "[encoded data removed]"
     },
     "metadata": {},
     "output_type": "display_data"
    }
   ],
   "source": [
    "#визуализируем воронку\n",
    "fig = go.Figure()\n",
    "\n",
    "fig.add_trace(go.Funnel(\n",
    "    name = 'Контрольная группа А',\n",
    "    y = ab_funnel['event_name'],\n",
    "    x = ab_funnel['A'], \n",
    "    textinfo = \"value+percent initial\"))\n",
    "\n",
    "fig.add_trace(go.Funnel(\n",
    "    name = 'Тестовая группа В',\n",
    "    orientation = \"h\",\n",
    "    y = ab_funnel['event_name'],\n",
    "    x = ab_funnel['B'],\n",
    "    textposition = \"inside\",\n",
    "    textinfo = \"value+percent initial\"))\n",
    "\n",
    "fig.show(renderer='png', width = 1000, scale = None) "
   ]
  },
  {
   "cell_type": "markdown",
   "metadata": {},
   "source": [
    "Результаты в обеих группах достаточно хорошие: **целевое действие совершила почти треть (28%) тестовой группы и более трети (32%) контрольной группы.** На этом этапе мы уже видим, что по конверсии не то чтобы нет улучшений, но есть ухудшения.\n",
    "\n",
    "Ранее уже говорили о том, что среди пользователей тестовой группы было крайне высокое количество клиентов с нулевыми действиями, что сигнализирует о сбое в сборе данных или приложении. Это могло повлиять на результаты теста.\n",
    "\n",
    "Более того, в техническом задании не зафиксировано, на каком этапе пользователь может столкнуться с новой рекомендательной системой. Если, например, только на этапе корзины (предлагаются похожие товары и т.д.), то наш тест нельзя назвать показательным, поскольку этот этап можно пропускать и мы не можем отследить, что повлияло на покупку. "
   ]
  },
  {
   "cell_type": "code",
   "execution_count": 66,
   "metadata": {},
   "outputs": [],
   "source": [
    "#создадим удобный для анализа датафрейм, чтобы посмотреть, как пользователи совершали покупку: через корзину или вне нее\n",
    "\n",
    "temp_table = rec_final_ab.query(\"event_name == 'product_cart' or event_name == 'purchase' \")\n",
    "temp_table = temp_table.groupby(['user_id', 'group','event_name'], as_index=False).agg(count=('event_name','nunique'))\\\n",
    "                       .sort_values(by='user_id')\n",
    "\n",
    "temp_table = pd.pivot_table(temp_table, index=['user_id','group'], columns=['event_name'], aggfunc='sum',\n",
    "              fill_value=0).reset_index()\n",
    "\n",
    "temp_table.columns=['user_id','group','product_cart','purchase']"
   ]
  },
  {
   "cell_type": "code",
   "execution_count": 67,
   "metadata": {},
   "outputs": [
    {
     "data": {
      "text/html": [
       "<div>\n",
       "<style scoped>\n",
       "    .dataframe tbody tr th:only-of-type {\n",
       "        vertical-align: middle;\n",
       "    }\n",
       "\n",
       "    .dataframe tbody tr th {\n",
       "        vertical-align: top;\n",
       "    }\n",
       "\n",
       "    .dataframe thead th {\n",
       "        text-align: right;\n",
       "    }\n",
       "</style>\n",
       "<table border=\"1\" class=\"dataframe\">\n",
       "  <thead>\n",
       "    <tr style=\"text-align: right;\">\n",
       "      <th></th>\n",
       "      <th>group</th>\n",
       "      <th>user_id</th>\n",
       "    </tr>\n",
       "  </thead>\n",
       "  <tbody>\n",
       "    <tr>\n",
       "      <th>0</th>\n",
       "      <td>A</td>\n",
       "      <td>572</td>\n",
       "    </tr>\n",
       "    <tr>\n",
       "      <th>1</th>\n",
       "      <td>B</td>\n",
       "      <td>174</td>\n",
       "    </tr>\n",
       "  </tbody>\n",
       "</table>\n",
       "</div>"
      ],
      "text/plain": [
       "  group  user_id\n",
       "0     A      572\n",
       "1     B      174"
      ]
     },
     "execution_count": 67,
     "metadata": {},
     "output_type": "execute_result"
    }
   ],
   "source": [
    "#сколько пользователей совершили покупку, но не заходили в корзину\n",
    "temp_table.query(\"product_cart == 0 and purchase == 1\").groupby('group',as_index=False).agg({'user_id':'count'})"
   ]
  },
  {
   "cell_type": "code",
   "execution_count": 68,
   "metadata": {},
   "outputs": [
    {
     "data": {
      "text/html": [
       "<div>\n",
       "<style scoped>\n",
       "    .dataframe tbody tr th:only-of-type {\n",
       "        vertical-align: middle;\n",
       "    }\n",
       "\n",
       "    .dataframe tbody tr th {\n",
       "        vertical-align: top;\n",
       "    }\n",
       "\n",
       "    .dataframe thead th {\n",
       "        text-align: right;\n",
       "    }\n",
       "</style>\n",
       "<table border=\"1\" class=\"dataframe\">\n",
       "  <thead>\n",
       "    <tr style=\"text-align: right;\">\n",
       "      <th></th>\n",
       "      <th>group</th>\n",
       "      <th>user_id</th>\n",
       "    </tr>\n",
       "  </thead>\n",
       "  <tbody>\n",
       "    <tr>\n",
       "      <th>0</th>\n",
       "      <td>A</td>\n",
       "      <td>521</td>\n",
       "    </tr>\n",
       "    <tr>\n",
       "      <th>1</th>\n",
       "      <td>B</td>\n",
       "      <td>169</td>\n",
       "    </tr>\n",
       "  </tbody>\n",
       "</table>\n",
       "</div>"
      ],
      "text/plain": [
       "  group  user_id\n",
       "0     A      521\n",
       "1     B      169"
      ]
     },
     "execution_count": 68,
     "metadata": {},
     "output_type": "execute_result"
    }
   ],
   "source": [
    "#сколько пользователей не совершили покупку, но заходили в корзину\n",
    "temp_table.query(\"product_cart == 1 and purchase == 0\").groupby('group',as_index=False).agg({'user_id':'count'})"
   ]
  },
  {
   "cell_type": "code",
   "execution_count": 69,
   "metadata": {},
   "outputs": [
    {
     "data": {
      "text/html": [
       "<div>\n",
       "<style scoped>\n",
       "    .dataframe tbody tr th:only-of-type {\n",
       "        vertical-align: middle;\n",
       "    }\n",
       "\n",
       "    .dataframe tbody tr th {\n",
       "        vertical-align: top;\n",
       "    }\n",
       "\n",
       "    .dataframe thead th {\n",
       "        text-align: right;\n",
       "    }\n",
       "</style>\n",
       "<table border=\"1\" class=\"dataframe\">\n",
       "  <thead>\n",
       "    <tr style=\"text-align: right;\">\n",
       "      <th></th>\n",
       "      <th>group</th>\n",
       "      <th>user_id</th>\n",
       "    </tr>\n",
       "  </thead>\n",
       "  <tbody>\n",
       "    <tr>\n",
       "      <th>0</th>\n",
       "      <td>A</td>\n",
       "      <td>261</td>\n",
       "    </tr>\n",
       "    <tr>\n",
       "      <th>1</th>\n",
       "      <td>B</td>\n",
       "      <td>75</td>\n",
       "    </tr>\n",
       "  </tbody>\n",
       "</table>\n",
       "</div>"
      ],
      "text/plain": [
       "  group  user_id\n",
       "0     A      261\n",
       "1     B       75"
      ]
     },
     "execution_count": 69,
     "metadata": {},
     "output_type": "execute_result"
    }
   ],
   "source": [
    "#пользователи, которые совершили покупку через корзину\n",
    "temp = temp_table.query(\"product_cart == 1 and purchase == 1\").groupby('group',as_index=False).agg({'user_id':'count'})\n",
    "temp"
   ]
  },
  {
   "cell_type": "markdown",
   "metadata": {},
   "source": [
    "Получается, что в обеих группах бОльшая доля пользователей совершила покупку напрямую, без перехода в корзину:\n",
    "\n",
    "- в группе А 572 из 833\n",
    "- в группе В 174 из 249\n",
    "\n",
    "Шаговая конверсия из корзины в покупку для тех пользователей, кто шел четко по воронке:"
   ]
  },
  {
   "cell_type": "code",
   "execution_count": 70,
   "metadata": {},
   "outputs": [
    {
     "data": {
      "text/plain": [
       "0.33"
      ]
     },
     "execution_count": 70,
     "metadata": {},
     "output_type": "execute_result"
    }
   ],
   "source": [
    "#группа А\n",
    "round(temp.query(\"group == 'A'\").iloc[0]['user_id']/ab_funnel.query(\"event_name == 'product_cart'\").iloc[0]['A'],2)"
   ]
  },
  {
   "cell_type": "code",
   "execution_count": 71,
   "metadata": {
    "scrolled": true
   },
   "outputs": [
    {
     "data": {
      "text/plain": [
       "0.31"
      ]
     },
     "execution_count": 71,
     "metadata": {},
     "output_type": "execute_result"
    }
   ],
   "source": [
    "#группа B\n",
    "round(temp.query(\"group == 'B'\").iloc[0]['user_id']/ab_funnel.query(\"event_name == 'product_cart'\").iloc[0]['B'],2)"
   ]
  },
  {
   "cell_type": "markdown",
   "metadata": {},
   "source": [
    "Таким образом, очень важно прояснить, на каком этапе пользователи могут столкнуться с рекомендательной системой. Если только на этапе корзины, необходимо будет убрать события пользователей, которые совершали покупки напрямую. Это может скорректировать результаты теста + также в этом случае нам может не хватить размера выборки."
   ]
  },
  {
   "cell_type": "markdown",
   "metadata": {},
   "source": [
    "## Оценка результатов A/B-тестирования"
   ]
  },
  {
   "cell_type": "markdown",
   "metadata": {},
   "source": [
    "### Проверим статистическую разницу долей z-критерием"
   ]
  },
  {
   "cell_type": "markdown",
   "metadata": {},
   "source": [
    "- Н0: Значимой разницы между долями (конверсиями от первого шага) в событие в группах А и В нет\n",
    "- Н1: Значимая разница между долями (конверсиями от первого шага) в событие группах А и В присутствует"
   ]
  },
  {
   "cell_type": "code",
   "execution_count": 72,
   "metadata": {},
   "outputs": [
    {
     "name": "stdout",
     "output_type": "stream",
     "text": [
      "Проверка конверсии в событие product_page\n",
      "Уровень значимости: 0.000698550658491115\n",
      "Конверсия в группе А: 0.647\n",
      "Конверсия в группе B: 0.563\n",
      "Отвергаем нулевую гипотезу о равенстве долей\n",
      " \n",
      "Проверка конверсии в событие product_cart\n",
      "Уровень значимости: 0.5299541639197825\n",
      "Конверсия в группе А: 0.3\n",
      "Конверсия в группе B: 0.279\n",
      "Не удалось отвергнуть нулевую гипотезу о равенстве долей\n",
      " \n",
      "Проверка конверсии в событие purchase\n",
      "Уровень значимости: 0.28155076643467325\n",
      "Конверсия в группе А: 0.32\n",
      "Конверсия в группе B: 0.284\n",
      "Не удалось отвергнуть нулевую гипотезу о равенстве долей\n",
      " \n"
     ]
    }
   ],
   "source": [
    "#уровень значимости\n",
    "alpha = 0.05/3 #поправка на множественный тест\n",
    "\n",
    "for i in range(1,4):\n",
    "    #пропорция в группе А\n",
    "\n",
    "    num_a = ab_funnel['A'][i]\n",
    "    cum_num_a = ab_funnel['A'][0]\n",
    "    prop_a = ab_funnel['conv_rate_a'][i]\n",
    "\n",
    "    #пропорция в группе B\n",
    "    num_b = ab_funnel['B'][i]\n",
    "    cum_num_b = ab_funnel['B'][0]\n",
    "    prop_b = ab_funnel['conv_rate_b'][i]\n",
    "\n",
    "    p_cum= (num_a + num_b)/(cum_num_a+cum_num_b)\n",
    "\n",
    "    difference = prop_a-prop_b\n",
    "\n",
    "    z_value = difference/mth.sqrt(p_cum*(1-p_cum)*(1/num_a +1/num_b))# ваш код\n",
    "    distr = stats.norm(0, 1)  \n",
    "\n",
    "    p_value = (1 - distr.cdf(abs(z_value))) * 2 \n",
    "    name = ab_funnel['event_name'][i]\n",
    "    \n",
    "    print(f'Проверка конверсии в событие {name}')\n",
    "    print(f'Уровень значимости: {p_value}')\n",
    "    print(f'Конверсия в группе А: {round(prop_a,3)}')\n",
    "    print(f'Конверсия в группе B: {round(prop_b,3)}')\n",
    "\n",
    "    if p_value < alpha:\n",
    "        print('Отвергаем нулевую гипотезу о равенстве долей')\n",
    "\n",
    "    else:\n",
    "        print('Не удалось отвергнуть нулевую гипотезу о равенстве долей')\n",
    "    \n",
    "    print(' ')"
   ]
  },
  {
   "cell_type": "markdown",
   "metadata": {},
   "source": [
    "### Что можно сказать про результаты A/В-тестирования?"
   ]
  },
  {
   "cell_type": "markdown",
   "metadata": {},
   "source": [
    "**По результатам тестирования удалось зафиксировать статистически значимую разницу только между конверсиями в двух группах по событию просмотра карточек товаров. Причем исходя из данных, конверсия в тестируемой группе ниже.**\n",
    "\n",
    "По конверсии в другие события (просмотр корзины и покупка) не удалось зафиксировать статистически значимых различий между группами.\n",
    "\n",
    "Ожидаемый эффект (за 14 дней с момента регистрации пользователи покажут улучшение каждой метрики не менее, чем на 10%) не достигнут. \n",
    "\n",
    "Соответственно, если бы не было зафиксировано нарушений в проведении теста и не было бы предположений на основе данных о технических сбоях, мы могли бы сказать, что новая рекомендательная система не только не улучшила целевые показатели на 10% пунктов, но и по одному событию были зафиксированы ухудшения. То есть, внедрение этой системы не улучшает никаких показателей.\n",
    "\n",
    "Однако учитывая все зафиксированные сбои и нарушения ТЗ, пересечение с маркетинговыми активностями и возможное внешнее влияние других скрытых факторов на течение теста, а также вероятный технический сбой для тестовой группы, рекомендуется выяснить причины этих нарушений и возможно пересмотреть результаты тестирования или провести новое тестирование. Поскольку в текущей ситуации результатам доверять не рекомендуется."
   ]
  },
  {
   "cell_type": "markdown",
   "metadata": {},
   "source": [
    "## Выводы"
   ]
  },
  {
   "cell_type": "markdown",
   "metadata": {},
   "source": [
    "## При анализе результатов тестирования были выявлены **факторы, которые свидетельствуют о некорректности проведенного теста**:\n",
    "\n",
    "- **Неравномерное распределение групп, некорректное формирование групп**\n",
    "\n",
    "В тест попали пользователи не только из целевого региона (Европы).\n",
    "\n",
    "Были зафиксированы пересекающиеся пользователи из конкурирующего теста. Исходя из статистического теста, не удалось подтвердить статистическую разницу в долях пересекающихся пользователей между двумя группами теста. Поэтому такие пользователи вероятно одинаково повлияли на результаты теста — было принято решение не избавляться от них. \n",
    "\n",
    "Итоговые группы распределены неравномерно, группа А почти в три раза больше группы В, разница в пропорциях статистически также подтверждена. Не было пользователей, которые попали одновременно в две группы нашего теста, соответственно группы были сформированы корректно с этой точки зрения. Однако несбалансированные выборки — это признак нарушения качества проведения теста. \n",
    "\n",
    "Также ИАД показал, что количество событий на пользователя распределено в двух выборках неравномерно: в контрольной группе чаще, чем в тестовой, на одного пользователя приходится большее кол-во событий (более 6) и наоборот, в тестовой группе чаще, чем в контрольной встречается меньшее кол-во событий на пользователя (до 6).\n",
    "\n",
    "- **Наличие пользователей с нулевым количеством действий с сильным перекосом в группу В (что может говорить о сбое в сборе данных или других технических сбоях)**\n",
    "\n",
    "Мы потеряли почти 68% пользователей из группы В, которые не совершали ни одного действия. Необходимо проверить, скорее всего, здесь была какая-то техническая ошибка в записи данных или сбой в приложении для пользователей, которым внедрили новую рекомендательную систему. За счет этого мы потеряли большое количество пользователей из тестовой группы и распределение между двумя группами стало еще более неравномерным. \n",
    "\n",
    "- **Пересечение с маркетинговыми активностями и возможное влияние других внешних факторов, о которых мы сделали предположение в ИАД**\n",
    "\n",
    "Мы зафиксировали одно событие, которое могло повлиять на тест: Christmas&New Year Promo (Началось во время периода проведения теста, закончилось во время). ИАД показал, что маркетинговая активность, с которой было пересечение, судя по графику, значительно не повлияла на ход теста (ее начало — 25 декабря). Тем не менее, в будущем необходимо избегать подобных перечений при проведении тестов.\n",
    "\n",
    "При изучении распределения числа событий по дням для группы А мы зафиксировали внезапный и довольно сильный всплеск в районе 14 декабря. Возникает предположение о каком-либо внешнем влиянии, которое могло спровоцировать такой всплеск (возможно, пиар-компания или акции/розыгрыши, которые не фиксировались в календаре маркетинговых событий). Пик этого подъема в группе А приходится на 20 декабря, затем мы наблюдаем снижение числа совершаемых событий. Здесь необходимо проверить влияние неучтенных внешних факторов. Если таких нет, возможно подобное поведение связано с сезонностью (за две недели до Нового года пользователи стали более активны). Однако этот фактор также негативно сказывается на достоверности проводимого теста. Не стоит проводить тестирование в периоды, где возможно аномальное поведение пользователей (ажиотаж в предпраздничный период и пр.) и влияние большого количества скрытых факторов.\n",
    "\n",
    "Как раз 14 декабря мы также увидели резкий всплеск регистраций в контрольной группе, также 21 числа кол-во регистраций сильно возрасло, однако это не сильно отразилось на распределении событий. Такое распределение регистраций подтверждает гипотезу о внешнем скрытом влиянии на тест. Необходимо разобраться, что могло спровоцировать такой скачок. Вероятно, тест может быть признан некорректным. В группе В с 14 декабря также есть тренд на повышение кол-ва регистраций.\n",
    "\n",
    "- **Непрямая воронка данных (покупку можно совершать как напрямую, так и через корзину)**\n",
    "\n",
    "В техническом задании не зафиксировано, на каком этапе пользователь может столкнуться с новой рекомендательной системой. Если, например, только на этапе корзины (предлагаются похожие товары и т.д.), то наш тест нельзя назвать показательным, поскольку этот этап можно пропускать и мы не можем отследить, что повлияло на покупку.\n",
    "\n",
    "Получается, что в обеих группах бОльшая доля пользователей совершила покупку напрямую, без перехода в корзину (в группе А 572 из 833, в группе В 174 из 249)\n",
    "\n",
    "Таким образом, очень важно прояснить, на каком этапе пользователи могут столкнуться с рекомендательной системой. Если только на этапе корзины, необходимо будет убрать события пользователей, которые совершали покупки напрямую. Это может скорректировать результаты теста + также в этом случае нам может не хватить размера выборки.\n",
    "\n",
    "- **Временной промежуток предоставленных данных не соответствует ТЗ: в нашем датасете события до 29 декабря включительно, то есть по каким-то причинам нет данных по действиям пользователей за 5 дней**\n",
    "\n",
    "В данных (final_ab_events) события представлены за период с 7 декабря до 29 декабря 2020 года. То есть, по сути требование ТЗ не выполняется. Более того, в случае, если часть данных утеряна, необходимо также скорректировать дату остановки набора пользователей: сейчас это 21 декабря, а грамотнее было бы сдвинуть до 16 декабря (чтобы для каждого пользователя было 14 дней лайфтайма). Или добавить недостающие данные, если это возможно.\n",
    "\n",
    "## **Результаты теста:**\n",
    "\n",
    "- По результатам тестирования удалось зафиксировать статистически значимую разницу только **между конверсиями в двух группах по событию просмотра карточек товаров**. Причем исходя из данных, конверсия в тестируемой группе ниже.\n",
    "\n",
    "- По конверсии в другие события (просмотр корзины и покупка) не удалось зафиксировать статистически значимых различий между группами.\n",
    "\n",
    "Ожидаемый эффект (за 14 дней с момента регистрации пользователи покажут улучшение каждой метрики не менее, чем на 10%) не достигнут.\n",
    "\n",
    "Соответственно, если бы не было зафиксировано нарушений в проведении теста и не было бы предположений на основе данных о технических сбоях, мы могли бы сказать, что новая рекомендательная система не только не улучшила целевые показатели на 10% пунктов, но и по одному событию были зафиксированы ухудшения. То есть, внедрение этой системы не улучшает никаких показателей.\n",
    "\n",
    "Однако учитывая все зафиксированные сбои и нарушения ТЗ, пересечение с маркетинговыми активностями и возможное внешнее влияние других скрытых факторов на течение теста, а также вероятный технический сбой для тестовой группы, рекомендуется выяснить причины этих нарушений и возможно пересмотреть результаты тестирования или провести новое тестирование. Поскольку в текущей ситуации результатам доверять не рекомендуется.\n",
    "\n",
    "## **Рекомендации:**\n",
    "\n",
    "- Поскольку тест уже проведен и бюджет на него потрачен, в первую очередь **рекомендуем попытаться выяснить причины сбоев в данных** (почему нет событий с 30 декабря по 4 января, почему такой большой процент пользователей тестовой группы не совершил ни одного действия). Если удастся восстановить часть данных, в случае если они не утрачены, можно будет пересмотреть результаты теста. Если нет, необходимо убрать пользователей, зарегистрированных после 16 декабря\n",
    "\n",
    "- **Выяснить природу всплеска в количестве действий и регистраций 14 декабря**. Могли ли здесь повлиять скрытые факторы? Возможно, пиар-компания или акции/розыгрыши, которые не фиксировались в календаре маркетинговых событий и пр.\n",
    "\n",
    "- Выяснить **причину попадания в тест пользователей из других регионов** — возможно нарушены правила набора, был технический сбой\n",
    "\n",
    "- **Не пересекать аудитории конкурирующих тестов**, это затрудняет анализ результатов\n",
    "\n",
    "- Стремиться к **равномерному распределению выборок двух тестируемых групп**, отслеживать сбалансированность групп при наборе пользователей на тест\n",
    "\n",
    "- **Не стоит проводить тестирование в периоды, где возможно аномальное поведение пользователей** (ажиотаж в предпраздничный период и пр.) и влияние большого количества скрытых факторов. Также следует разводить маркетинговые активности и тестирование новых функций, чтобы избежать внешнего влияния."
   ]
  }
 ],
 "metadata": {
  "ExecuteTimeLog": [
   {
    "duration": 7159,
    "start_time": "2023-07-12T18:57:22.787Z"
   },
   {
    "duration": 7,
    "start_time": "2023-07-12T18:57:29.950Z"
   },
   {
    "duration": 1732,
    "start_time": "2023-07-12T18:57:29.960Z"
   },
   {
    "duration": 639,
    "start_time": "2023-07-12T18:57:31.695Z"
   },
   {
    "duration": 42,
    "start_time": "2023-07-12T18:57:32.338Z"
   },
   {
    "duration": 203,
    "start_time": "2023-07-12T18:57:32.383Z"
   },
   {
    "duration": 346,
    "start_time": "2023-07-12T18:57:32.589Z"
   },
   {
    "duration": 216,
    "start_time": "2023-07-12T18:57:32.937Z"
   },
   {
    "duration": 87,
    "start_time": "2023-07-12T18:57:33.157Z"
   },
   {
    "duration": 75,
    "start_time": "2023-07-12T18:57:33.246Z"
   },
   {
    "duration": 15,
    "start_time": "2023-07-12T18:57:33.334Z"
   },
   {
    "duration": 186,
    "start_time": "2023-07-12T18:57:33.351Z"
   },
   {
    "duration": 6,
    "start_time": "2023-07-12T18:57:33.540Z"
   },
   {
    "duration": 27,
    "start_time": "2023-07-12T18:57:33.551Z"
   },
   {
    "duration": 9,
    "start_time": "2023-07-12T18:57:33.580Z"
   },
   {
    "duration": 260,
    "start_time": "2023-07-12T18:57:33.592Z"
   },
   {
    "duration": 9,
    "start_time": "2023-07-12T18:57:33.855Z"
   },
   {
    "duration": 61,
    "start_time": "2023-07-12T18:57:33.866Z"
   },
   {
    "duration": 18,
    "start_time": "2023-07-12T18:57:33.932Z"
   },
   {
    "duration": 19,
    "start_time": "2023-07-12T18:57:33.954Z"
   },
   {
    "duration": 51,
    "start_time": "2023-07-12T18:57:33.977Z"
   },
   {
    "duration": 15,
    "start_time": "2023-07-12T18:57:34.034Z"
   },
   {
    "duration": 8,
    "start_time": "2023-07-12T18:57:34.051Z"
   },
   {
    "duration": 11,
    "start_time": "2023-07-12T18:57:34.062Z"
   },
   {
    "duration": 11,
    "start_time": "2023-07-12T18:57:34.075Z"
   },
   {
    "duration": 87,
    "start_time": "2023-07-12T18:57:34.088Z"
   },
   {
    "duration": 311,
    "start_time": "2023-07-12T18:57:34.177Z"
   },
   {
    "duration": 203,
    "start_time": "2023-07-12T18:57:34.490Z"
   },
   {
    "duration": 35,
    "start_time": "2023-07-12T18:57:34.696Z"
   },
   {
    "duration": 30,
    "start_time": "2023-07-12T18:57:34.735Z"
   },
   {
    "duration": 25,
    "start_time": "2023-07-12T18:57:34.768Z"
   },
   {
    "duration": 32,
    "start_time": "2023-07-12T18:57:34.795Z"
   },
   {
    "duration": 13,
    "start_time": "2023-07-12T18:57:34.830Z"
   },
   {
    "duration": 11,
    "start_time": "2023-07-12T18:57:34.845Z"
   },
   {
    "duration": 16,
    "start_time": "2023-07-12T18:57:34.859Z"
   },
   {
    "duration": 16,
    "start_time": "2023-07-12T18:57:34.878Z"
   },
   {
    "duration": 45,
    "start_time": "2023-07-12T18:57:34.896Z"
   },
   {
    "duration": 9,
    "start_time": "2023-07-12T18:57:34.943Z"
   },
   {
    "duration": 29,
    "start_time": "2023-07-12T18:57:34.955Z"
   },
   {
    "duration": 68,
    "start_time": "2023-07-12T18:57:34.986Z"
   },
   {
    "duration": 27,
    "start_time": "2023-07-12T18:57:35.064Z"
   },
   {
    "duration": 60,
    "start_time": "2023-07-12T18:57:35.092Z"
   },
   {
    "duration": 177,
    "start_time": "2023-07-12T18:57:35.154Z"
   },
   {
    "duration": 17,
    "start_time": "2023-07-12T18:57:35.338Z"
   },
   {
    "duration": 84,
    "start_time": "2023-07-12T18:57:35.358Z"
   },
   {
    "duration": 18,
    "start_time": "2023-07-12T18:57:35.445Z"
   },
   {
    "duration": 29,
    "start_time": "2023-07-12T18:57:35.465Z"
   },
   {
    "duration": 74,
    "start_time": "2023-07-12T18:57:35.496Z"
   },
   {
    "duration": 13,
    "start_time": "2023-07-12T18:57:35.572Z"
   },
   {
    "duration": 55,
    "start_time": "2023-07-12T18:57:35.588Z"
   },
   {
    "duration": 77,
    "start_time": "2023-07-12T18:57:35.648Z"
   },
   {
    "duration": 40,
    "start_time": "2023-07-12T18:57:35.728Z"
   },
   {
    "duration": 7,
    "start_time": "2023-07-12T18:57:35.772Z"
   },
   {
    "duration": 44,
    "start_time": "2023-07-12T18:57:35.781Z"
   },
   {
    "duration": 37,
    "start_time": "2023-07-12T18:57:35.830Z"
   },
   {
    "duration": 15,
    "start_time": "2023-07-12T18:57:35.870Z"
   },
   {
    "duration": 707,
    "start_time": "2023-07-12T18:57:35.887Z"
   },
   {
    "duration": 36,
    "start_time": "2023-07-12T18:57:36.596Z"
   },
   {
    "duration": 2563,
    "start_time": "2023-07-12T18:57:36.635Z"
   },
   {
    "duration": 163,
    "start_time": "2023-07-12T18:57:39.201Z"
   },
   {
    "duration": 1062,
    "start_time": "2023-07-12T18:57:39.367Z"
   },
   {
    "duration": 48,
    "start_time": "2023-07-12T18:57:40.431Z"
   },
   {
    "duration": 897,
    "start_time": "2023-07-12T18:57:40.481Z"
   },
   {
    "duration": 11,
    "start_time": "2023-07-12T18:57:41.380Z"
   },
   {
    "duration": 56,
    "start_time": "2023-07-12T18:57:41.392Z"
   },
   {
    "duration": 59,
    "start_time": "2023-07-12T18:57:41.450Z"
   },
   {
    "duration": 24,
    "start_time": "2023-07-12T18:57:41.511Z"
   },
   {
    "duration": 40,
    "start_time": "2023-07-12T18:57:41.538Z"
   },
   {
    "duration": 13,
    "start_time": "2023-07-12T18:57:41.580Z"
   },
   {
    "duration": 13,
    "start_time": "2023-07-12T18:57:41.595Z"
   },
   {
    "duration": 32,
    "start_time": "2023-07-12T18:57:41.610Z"
   },
   {
    "duration": 44,
    "start_time": "2023-07-12T18:57:41.644Z"
   },
   {
    "duration": 63,
    "start_time": "2023-07-12T19:22:49.461Z"
   },
   {
    "duration": 3843,
    "start_time": "2023-07-12T19:22:56.424Z"
   },
   {
    "duration": 4,
    "start_time": "2023-07-12T19:23:00.270Z"
   },
   {
    "duration": 1192,
    "start_time": "2023-07-12T19:23:00.276Z"
   },
   {
    "duration": 507,
    "start_time": "2023-07-12T19:23:01.470Z"
   },
   {
    "duration": 48,
    "start_time": "2023-07-12T19:23:01.979Z"
   },
   {
    "duration": 50,
    "start_time": "2023-07-12T19:23:02.029Z"
   },
   {
    "duration": 440,
    "start_time": "2023-07-12T19:23:02.081Z"
   },
   {
    "duration": 152,
    "start_time": "2023-07-12T19:23:02.523Z"
   },
   {
    "duration": 60,
    "start_time": "2023-07-12T19:23:02.677Z"
   },
   {
    "duration": 52,
    "start_time": "2023-07-12T19:23:02.739Z"
   },
   {
    "duration": 88,
    "start_time": "2023-07-12T19:23:02.793Z"
   },
   {
    "duration": 236,
    "start_time": "2023-07-12T19:23:02.885Z"
   },
   {
    "duration": 5,
    "start_time": "2023-07-12T19:23:03.123Z"
   },
   {
    "duration": 50,
    "start_time": "2023-07-12T19:23:03.131Z"
   },
   {
    "duration": 45,
    "start_time": "2023-07-12T19:23:03.183Z"
   },
   {
    "duration": 242,
    "start_time": "2023-07-12T19:23:03.230Z"
   },
   {
    "duration": 7,
    "start_time": "2023-07-12T19:23:03.473Z"
   },
   {
    "duration": 211,
    "start_time": "2023-07-12T19:23:03.481Z"
   },
   {
    "duration": 87,
    "start_time": "2023-07-12T19:23:03.694Z"
   },
   {
    "duration": 45,
    "start_time": "2023-07-12T19:23:03.783Z"
   },
   {
    "duration": 79,
    "start_time": "2023-07-12T19:23:03.830Z"
   },
   {
    "duration": 108,
    "start_time": "2023-07-12T19:23:03.911Z"
   },
   {
    "duration": 39,
    "start_time": "2023-07-12T19:23:04.021Z"
   },
   {
    "duration": 54,
    "start_time": "2023-07-12T19:23:04.062Z"
   },
   {
    "duration": 35,
    "start_time": "2023-07-12T19:23:04.118Z"
   },
   {
    "duration": 80,
    "start_time": "2023-07-12T19:23:04.154Z"
   },
   {
    "duration": 106,
    "start_time": "2023-07-12T19:23:04.236Z"
   },
   {
    "duration": 37,
    "start_time": "2023-07-12T19:23:04.344Z"
   },
   {
    "duration": 36,
    "start_time": "2023-07-12T19:23:04.383Z"
   },
   {
    "duration": 95,
    "start_time": "2023-07-12T19:23:04.421Z"
   },
   {
    "duration": 125,
    "start_time": "2023-07-12T19:23:04.518Z"
   },
   {
    "duration": 129,
    "start_time": "2023-07-12T19:23:04.645Z"
   },
   {
    "duration": 118,
    "start_time": "2023-07-12T19:23:04.776Z"
   },
   {
    "duration": 49,
    "start_time": "2023-07-12T19:23:04.896Z"
   },
   {
    "duration": 70,
    "start_time": "2023-07-12T19:23:04.947Z"
   },
   {
    "duration": 36,
    "start_time": "2023-07-12T19:23:05.019Z"
   },
   {
    "duration": 51,
    "start_time": "2023-07-12T19:23:05.057Z"
   },
   {
    "duration": 93,
    "start_time": "2023-07-12T19:23:05.110Z"
   },
   {
    "duration": 49,
    "start_time": "2023-07-12T19:23:05.205Z"
   },
   {
    "duration": 105,
    "start_time": "2023-07-12T19:23:05.256Z"
   },
   {
    "duration": 21,
    "start_time": "2023-07-12T19:23:05.365Z"
   },
   {
    "duration": 23,
    "start_time": "2023-07-12T19:23:05.388Z"
   },
   {
    "duration": 156,
    "start_time": "2023-07-12T19:23:05.413Z"
   },
   {
    "duration": 11,
    "start_time": "2023-07-12T19:23:05.571Z"
   },
   {
    "duration": 55,
    "start_time": "2023-07-12T19:23:05.584Z"
   },
   {
    "duration": 33,
    "start_time": "2023-07-12T19:23:05.640Z"
   },
   {
    "duration": 86,
    "start_time": "2023-07-12T19:23:05.675Z"
   },
   {
    "duration": 81,
    "start_time": "2023-07-12T19:23:05.763Z"
   },
   {
    "duration": 67,
    "start_time": "2023-07-12T19:23:05.847Z"
   },
   {
    "duration": 58,
    "start_time": "2023-07-12T19:23:05.916Z"
   },
   {
    "duration": 65,
    "start_time": "2023-07-12T19:23:05.977Z"
   },
   {
    "duration": 50,
    "start_time": "2023-07-12T19:23:06.044Z"
   },
   {
    "duration": 93,
    "start_time": "2023-07-12T19:23:06.096Z"
   },
   {
    "duration": 83,
    "start_time": "2023-07-12T19:23:06.191Z"
   },
   {
    "duration": 74,
    "start_time": "2023-07-12T19:23:06.276Z"
   },
   {
    "duration": 78,
    "start_time": "2023-07-12T19:23:06.352Z"
   },
   {
    "duration": 599,
    "start_time": "2023-07-12T19:23:06.432Z"
   },
   {
    "duration": 19,
    "start_time": "2023-07-12T19:23:07.033Z"
   },
   {
    "duration": 612,
    "start_time": "2023-07-12T19:23:07.054Z"
   },
   {
    "duration": 80,
    "start_time": "2023-07-12T19:23:07.668Z"
   },
   {
    "duration": 826,
    "start_time": "2023-07-12T19:23:07.750Z"
   },
   {
    "duration": 42,
    "start_time": "2023-07-12T19:23:08.578Z"
   },
   {
    "duration": 750,
    "start_time": "2023-07-12T19:23:08.622Z"
   },
   {
    "duration": 14,
    "start_time": "2023-07-12T19:23:09.374Z"
   },
   {
    "duration": 29,
    "start_time": "2023-07-12T19:23:09.389Z"
   },
   {
    "duration": 47,
    "start_time": "2023-07-12T19:23:09.420Z"
   },
   {
    "duration": 18,
    "start_time": "2023-07-12T19:23:09.469Z"
   },
   {
    "duration": 15,
    "start_time": "2023-07-12T19:23:09.509Z"
   },
   {
    "duration": 19,
    "start_time": "2023-07-12T19:23:09.525Z"
   },
   {
    "duration": 13,
    "start_time": "2023-07-12T19:23:09.546Z"
   },
   {
    "duration": 8,
    "start_time": "2023-07-12T19:23:09.561Z"
   },
   {
    "duration": 8,
    "start_time": "2023-07-12T19:23:09.570Z"
   },
   {
    "duration": 37,
    "start_time": "2023-07-12T19:23:09.580Z"
   },
   {
    "duration": 10,
    "start_time": "2023-07-12T19:25:46.693Z"
   },
   {
    "duration": 13,
    "start_time": "2023-07-12T19:25:50.859Z"
   },
   {
    "duration": 10,
    "start_time": "2023-07-12T19:27:33.512Z"
   },
   {
    "duration": 12,
    "start_time": "2023-07-12T19:27:37.996Z"
   },
   {
    "duration": 13,
    "start_time": "2023-07-12T19:27:41.514Z"
   },
   {
    "duration": 7,
    "start_time": "2023-07-12T19:27:49.628Z"
   },
   {
    "duration": 8,
    "start_time": "2023-07-12T19:28:03.462Z"
   },
   {
    "duration": 11,
    "start_time": "2023-07-12T19:28:09.660Z"
   },
   {
    "duration": 8,
    "start_time": "2023-07-12T19:28:18.806Z"
   },
   {
    "duration": 9,
    "start_time": "2023-07-12T19:30:51.417Z"
   },
   {
    "duration": 1124,
    "start_time": "2023-07-12T19:31:00.256Z"
   },
   {
    "duration": 7,
    "start_time": "2023-07-12T19:31:47.579Z"
   },
   {
    "duration": 1318,
    "start_time": "2023-07-12T19:32:40.245Z"
   },
   {
    "duration": 8,
    "start_time": "2023-07-12T19:33:11.481Z"
   },
   {
    "duration": 9,
    "start_time": "2023-07-12T19:33:37.926Z"
   },
   {
    "duration": 14,
    "start_time": "2023-07-12T19:33:49.424Z"
   },
   {
    "duration": 9,
    "start_time": "2023-07-12T19:33:56.814Z"
   },
   {
    "duration": 8,
    "start_time": "2023-07-12T19:34:08.339Z"
   },
   {
    "duration": 4238,
    "start_time": "2023-07-13T09:04:43.049Z"
   },
   {
    "duration": 4,
    "start_time": "2023-07-13T09:04:47.290Z"
   },
   {
    "duration": 1144,
    "start_time": "2023-07-13T09:04:47.296Z"
   },
   {
    "duration": 429,
    "start_time": "2023-07-13T09:04:48.442Z"
   },
   {
    "duration": 46,
    "start_time": "2023-07-13T09:04:48.873Z"
   },
   {
    "duration": 37,
    "start_time": "2023-07-13T09:04:48.926Z"
   },
   {
    "duration": 138,
    "start_time": "2023-07-13T09:04:48.966Z"
   },
   {
    "duration": 157,
    "start_time": "2023-07-13T09:04:49.107Z"
   },
   {
    "duration": 68,
    "start_time": "2023-07-13T09:04:49.266Z"
   },
   {
    "duration": 81,
    "start_time": "2023-07-13T09:04:49.338Z"
   },
   {
    "duration": 16,
    "start_time": "2023-07-13T09:04:49.420Z"
   },
   {
    "duration": 138,
    "start_time": "2023-07-13T09:04:49.438Z"
   },
   {
    "duration": 12,
    "start_time": "2023-07-13T09:04:49.577Z"
   },
   {
    "duration": 51,
    "start_time": "2023-07-13T09:04:49.591Z"
   },
   {
    "duration": 12,
    "start_time": "2023-07-13T09:04:49.644Z"
   },
   {
    "duration": 233,
    "start_time": "2023-07-13T09:04:49.658Z"
   },
   {
    "duration": 7,
    "start_time": "2023-07-13T09:04:49.892Z"
   },
   {
    "duration": 45,
    "start_time": "2023-07-13T09:04:49.901Z"
   },
   {
    "duration": 11,
    "start_time": "2023-07-13T09:04:49.948Z"
   },
   {
    "duration": 10,
    "start_time": "2023-07-13T09:04:49.961Z"
   },
   {
    "duration": 73,
    "start_time": "2023-07-13T09:04:49.973Z"
   },
   {
    "duration": 11,
    "start_time": "2023-07-13T09:04:50.048Z"
   },
   {
    "duration": 157,
    "start_time": "2023-07-13T09:04:50.060Z"
   },
   {
    "duration": 43,
    "start_time": "2023-07-13T09:04:50.220Z"
   },
   {
    "duration": 58,
    "start_time": "2023-07-13T09:04:50.266Z"
   },
   {
    "duration": 77,
    "start_time": "2023-07-13T09:04:50.331Z"
   },
   {
    "duration": 57,
    "start_time": "2023-07-13T09:04:50.411Z"
   },
   {
    "duration": 20,
    "start_time": "2023-07-13T09:04:50.472Z"
   },
   {
    "duration": 40,
    "start_time": "2023-07-13T09:04:50.494Z"
   },
   {
    "duration": 30,
    "start_time": "2023-07-13T09:04:50.537Z"
   },
   {
    "duration": 165,
    "start_time": "2023-07-13T09:04:50.570Z"
   },
   {
    "duration": 74,
    "start_time": "2023-07-13T09:04:50.737Z"
   },
   {
    "duration": 14,
    "start_time": "2023-07-13T09:04:50.813Z"
   },
   {
    "duration": 213,
    "start_time": "2023-07-13T09:04:50.832Z"
   },
   {
    "duration": 178,
    "start_time": "2023-07-13T09:04:51.048Z"
   },
   {
    "duration": 30,
    "start_time": "2023-07-13T09:04:51.228Z"
   },
   {
    "duration": 40,
    "start_time": "2023-07-13T09:04:51.260Z"
   },
   {
    "duration": 17,
    "start_time": "2023-07-13T09:04:51.302Z"
   },
   {
    "duration": 54,
    "start_time": "2023-07-13T09:04:51.322Z"
   },
   {
    "duration": 90,
    "start_time": "2023-07-13T09:04:51.378Z"
   },
   {
    "duration": 24,
    "start_time": "2023-07-13T09:04:51.470Z"
   },
   {
    "duration": 44,
    "start_time": "2023-07-13T09:04:51.495Z"
   },
   {
    "duration": 202,
    "start_time": "2023-07-13T09:04:51.541Z"
   },
   {
    "duration": 12,
    "start_time": "2023-07-13T09:04:51.744Z"
   },
   {
    "duration": 63,
    "start_time": "2023-07-13T09:04:51.758Z"
   },
   {
    "duration": 16,
    "start_time": "2023-07-13T09:04:51.829Z"
   },
   {
    "duration": 17,
    "start_time": "2023-07-13T09:04:51.847Z"
   },
   {
    "duration": 67,
    "start_time": "2023-07-13T09:04:51.866Z"
   },
   {
    "duration": 9,
    "start_time": "2023-07-13T09:04:51.935Z"
   },
   {
    "duration": 24,
    "start_time": "2023-07-13T09:04:51.946Z"
   },
   {
    "duration": 48,
    "start_time": "2023-07-13T09:04:51.971Z"
   },
   {
    "duration": 28,
    "start_time": "2023-07-13T09:04:52.021Z"
   },
   {
    "duration": 5,
    "start_time": "2023-07-13T09:04:52.051Z"
   },
   {
    "duration": 43,
    "start_time": "2023-07-13T09:04:52.058Z"
   },
   {
    "duration": 31,
    "start_time": "2023-07-13T09:04:52.103Z"
   },
   {
    "duration": 68,
    "start_time": "2023-07-13T09:04:52.136Z"
   },
   {
    "duration": 597,
    "start_time": "2023-07-13T09:04:52.206Z"
   },
   {
    "duration": 28,
    "start_time": "2023-07-13T09:04:52.805Z"
   },
   {
    "duration": 633,
    "start_time": "2023-07-13T09:04:52.834Z"
   },
   {
    "duration": 156,
    "start_time": "2023-07-13T09:04:53.469Z"
   },
   {
    "duration": 860,
    "start_time": "2023-07-13T09:04:53.627Z"
   },
   {
    "duration": 48,
    "start_time": "2023-07-13T09:04:54.490Z"
   },
   {
    "duration": 811,
    "start_time": "2023-07-13T09:04:54.539Z"
   },
   {
    "duration": 13,
    "start_time": "2023-07-13T09:04:55.351Z"
   },
   {
    "duration": 30,
    "start_time": "2023-07-13T09:04:55.366Z"
   },
   {
    "duration": 57,
    "start_time": "2023-07-13T09:04:55.398Z"
   },
   {
    "duration": 16,
    "start_time": "2023-07-13T09:04:55.457Z"
   },
   {
    "duration": 68,
    "start_time": "2023-07-13T09:04:55.475Z"
   },
   {
    "duration": 21,
    "start_time": "2023-07-13T09:04:55.546Z"
   },
   {
    "duration": 21,
    "start_time": "2023-07-13T09:04:55.569Z"
   },
   {
    "duration": 23,
    "start_time": "2023-07-13T09:04:55.592Z"
   },
   {
    "duration": 20,
    "start_time": "2023-07-13T09:04:55.620Z"
   },
   {
    "duration": 3666,
    "start_time": "2023-07-21T19:27:19.265Z"
   },
   {
    "duration": 4,
    "start_time": "2023-07-21T19:27:22.933Z"
   },
   {
    "duration": 2553,
    "start_time": "2023-07-21T19:27:22.938Z"
   },
   {
    "duration": 393,
    "start_time": "2023-07-21T19:27:25.494Z"
   },
   {
    "duration": 224,
    "start_time": "2023-07-21T19:27:25.888Z"
   },
   {
    "duration": 27,
    "start_time": "2023-07-21T19:27:26.113Z"
   },
   {
    "duration": 446,
    "start_time": "2023-07-21T19:27:26.141Z"
   },
   {
    "duration": 114,
    "start_time": "2023-07-21T19:27:26.589Z"
   },
   {
    "duration": 261,
    "start_time": "2023-07-21T19:27:26.704Z"
   },
   {
    "duration": 43,
    "start_time": "2023-07-21T19:27:26.968Z"
   },
   {
    "duration": 7,
    "start_time": "2023-07-21T19:27:27.012Z"
   },
   {
    "duration": 108,
    "start_time": "2023-07-21T19:27:27.020Z"
   },
   {
    "duration": 5,
    "start_time": "2023-07-21T19:27:27.129Z"
   },
   {
    "duration": 18,
    "start_time": "2023-07-21T19:27:27.136Z"
   },
   {
    "duration": 14,
    "start_time": "2023-07-21T19:27:27.156Z"
   },
   {
    "duration": 152,
    "start_time": "2023-07-21T19:27:27.171Z"
   },
   {
    "duration": 5,
    "start_time": "2023-07-21T19:27:27.332Z"
   },
   {
    "duration": 24,
    "start_time": "2023-07-21T19:27:27.339Z"
   },
   {
    "duration": 7,
    "start_time": "2023-07-21T19:27:27.365Z"
   },
   {
    "duration": 8,
    "start_time": "2023-07-21T19:27:27.373Z"
   },
   {
    "duration": 27,
    "start_time": "2023-07-21T19:27:27.382Z"
   },
   {
    "duration": 7,
    "start_time": "2023-07-21T19:27:27.432Z"
   },
   {
    "duration": 8,
    "start_time": "2023-07-21T19:27:27.441Z"
   },
   {
    "duration": 8,
    "start_time": "2023-07-21T19:27:27.450Z"
   },
   {
    "duration": 7,
    "start_time": "2023-07-21T19:27:27.459Z"
   },
   {
    "duration": 37,
    "start_time": "2023-07-21T19:27:27.467Z"
   },
   {
    "duration": 32,
    "start_time": "2023-07-21T19:27:27.505Z"
   },
   {
    "duration": 12,
    "start_time": "2023-07-21T19:27:27.541Z"
   },
   {
    "duration": 10,
    "start_time": "2023-07-21T19:27:27.554Z"
   },
   {
    "duration": 10,
    "start_time": "2023-07-21T19:27:27.565Z"
   },
   {
    "duration": 5,
    "start_time": "2023-07-21T19:27:27.576Z"
   },
   {
    "duration": 9,
    "start_time": "2023-07-21T19:27:27.582Z"
   },
   {
    "duration": 9,
    "start_time": "2023-07-21T19:27:27.593Z"
   },
   {
    "duration": 32,
    "start_time": "2023-07-21T19:27:27.603Z"
   },
   {
    "duration": 5,
    "start_time": "2023-07-21T19:27:27.636Z"
   },
   {
    "duration": 10,
    "start_time": "2023-07-21T19:27:27.643Z"
   },
   {
    "duration": 22,
    "start_time": "2023-07-21T19:27:27.655Z"
   },
   {
    "duration": 3,
    "start_time": "2023-07-21T19:27:27.678Z"
   },
   {
    "duration": 19,
    "start_time": "2023-07-21T19:27:27.682Z"
   },
   {
    "duration": 44,
    "start_time": "2023-07-21T19:27:27.702Z"
   },
   {
    "duration": 18,
    "start_time": "2023-07-21T19:27:27.748Z"
   },
   {
    "duration": 14,
    "start_time": "2023-07-21T19:27:27.769Z"
   },
   {
    "duration": 127,
    "start_time": "2023-07-21T19:27:27.785Z"
   },
   {
    "duration": 10,
    "start_time": "2023-07-21T19:27:27.914Z"
   },
   {
    "duration": 26,
    "start_time": "2023-07-21T19:27:27.932Z"
   },
   {
    "duration": 11,
    "start_time": "2023-07-21T19:27:27.960Z"
   },
   {
    "duration": 14,
    "start_time": "2023-07-21T19:27:27.972Z"
   },
   {
    "duration": 69,
    "start_time": "2023-07-21T19:27:27.988Z"
   },
   {
    "duration": 6,
    "start_time": "2023-07-21T19:27:28.059Z"
   },
   {
    "duration": 22,
    "start_time": "2023-07-21T19:27:28.066Z"
   },
   {
    "duration": 24,
    "start_time": "2023-07-21T19:27:28.089Z"
   },
   {
    "duration": 35,
    "start_time": "2023-07-21T19:27:28.114Z"
   },
   {
    "duration": 5,
    "start_time": "2023-07-21T19:27:28.151Z"
   },
   {
    "duration": 20,
    "start_time": "2023-07-21T19:27:28.157Z"
   },
   {
    "duration": 8,
    "start_time": "2023-07-21T19:27:28.178Z"
   },
   {
    "duration": 19,
    "start_time": "2023-07-21T19:27:28.187Z"
   },
   {
    "duration": 512,
    "start_time": "2023-07-21T19:27:28.207Z"
   },
   {
    "duration": 22,
    "start_time": "2023-07-21T19:27:28.720Z"
   },
   {
    "duration": 439,
    "start_time": "2023-07-21T19:27:28.744Z"
   },
   {
    "duration": 75,
    "start_time": "2023-07-21T19:27:29.185Z"
   },
   {
    "duration": 772,
    "start_time": "2023-07-21T19:27:29.262Z"
   },
   {
    "duration": 34,
    "start_time": "2023-07-21T19:27:30.035Z"
   },
   {
    "duration": 677,
    "start_time": "2023-07-21T19:27:30.071Z"
   },
   {
    "duration": 10,
    "start_time": "2023-07-21T19:27:30.750Z"
   },
   {
    "duration": 40,
    "start_time": "2023-07-21T19:27:30.761Z"
   },
   {
    "duration": 46,
    "start_time": "2023-07-21T19:27:30.802Z"
   },
   {
    "duration": 12,
    "start_time": "2023-07-21T19:27:30.849Z"
   },
   {
    "duration": 36,
    "start_time": "2023-07-21T19:27:30.863Z"
   },
   {
    "duration": 48,
    "start_time": "2023-07-21T19:27:30.901Z"
   },
   {
    "duration": 45,
    "start_time": "2023-07-21T19:27:30.951Z"
   },
   {
    "duration": 44,
    "start_time": "2023-07-21T19:27:30.997Z"
   },
   {
    "duration": 136,
    "start_time": "2023-07-21T19:27:31.042Z"
   }
  ],
  "kernelspec": {
   "display_name": "Python 3",
   "language": "python",
   "name": "python3"
  },
  "language_info": {
   "codemirror_mode": {
    "name": "ipython",
    "version": 3
   },
   "file_extension": ".py",
   "mimetype": "text/x-python",
   "name": "python",
   "nbconvert_exporter": "python",
   "pygments_lexer": "ipython3",
   "version": "3.7.9"
  },
  "toc": {
   "base_numbering": 1,
   "nav_menu": {},
   "number_sections": true,
   "sideBar": true,
   "skip_h1_title": true,
   "title_cell": "Table of Contents",
   "title_sidebar": "Contents",
   "toc_cell": false,
   "toc_position": {},
   "toc_section_display": true,
   "toc_window_display": true
  }
 },
 "nbformat": 4,
 "nbformat_minor": 4
}
